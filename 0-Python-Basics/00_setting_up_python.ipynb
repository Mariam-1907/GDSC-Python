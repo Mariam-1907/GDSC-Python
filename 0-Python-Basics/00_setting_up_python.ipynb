{
 "cells": [
  {
   "cell_type": "markdown",
   "id": "08fc55d1-d93f-429a-baac-c6405b2f210a",
   "metadata": {},
   "source": [
    "# Setting Up Python"
   ]
  },
  {
   "cell_type": "markdown",
   "id": "b9072e55-cd27-4f5e-9f1d-3798c7bc7471",
   "metadata": {},
   "source": [
    "- In this chapter, you will learn how to:\n",
    "> - Install the latest version of **Python 3** on your computer,\n",
    "> - Open **IDLE**, Python’s built-in Integrated Development and Learning Environment."
   ]
  },
  {
   "cell_type": "markdown",
   "id": "a2ea19ac-e330-4632-bdee-b021b6607705",
   "metadata": {},
   "source": [
    "## 1. Before We Start - Some Notes on Python"
   ]
  },
  {
   "cell_type": "markdown",
   "id": "69449038-ce58-4d16-988c-5c6125e98a50",
   "metadata": {},
   "source": [
    "- **What is Python?**\n",
    "> - Python is a **general-purpose high-level language**, meaning it can be used to create a variety of different programs and isn’t specialized for any specific problems.\n",
    "> - This versatility, along with its **beginner-friendliness**, has made it one of the most-used programming languages today.\n",
    "> - A survey conducted by industry analyst firm **[RedMonk](https://redmonk.com/sogrady/files/2021/08)** found that it was the second-most popular programming language among developers in 2021."
   ]
  },
  {
   "cell_type": "markdown",
   "id": "8dadbab2-c84e-4559-b40b-8780b7812796",
   "metadata": {},
   "source": [
    "- **The [history](https://www.judge.com/wp-content/uploads/2021/02/A-Brief-History-of-Python-The-Judge-Group-scaled-1.jpg) of Python.**"
   ]
  },
  {
   "cell_type": "markdown",
   "id": "3e111856-1f5b-4171-8480-11fb5c5e7459",
   "metadata": {},
   "source": [
    "- **What is Python all about?**\n",
    "> - Long time Pythoneer **Tim Peters** succinctly channels the guiding principles for Python’s design into 20 aphorisms, only 19 of which have been written down.\n",
    "> - You can access the **Zen of Python** with the following import:"
   ]
  },
  {
   "cell_type": "code",
   "execution_count": 1,
   "id": "e51a8136-d840-4553-a1a2-aee4138d5303",
   "metadata": {},
   "outputs": [
    {
     "name": "stdout",
     "output_type": "stream",
     "text": [
      "The Zen of Python, by Tim Peters\n",
      "\n",
      "Beautiful is better than ugly.\n",
      "Explicit is better than implicit.\n",
      "Simple is better than complex.\n",
      "Complex is better than complicated.\n",
      "Flat is better than nested.\n",
      "Sparse is better than dense.\n",
      "Readability counts.\n",
      "Special cases aren't special enough to break the rules.\n",
      "Although practicality beats purity.\n",
      "Errors should never pass silently.\n",
      "Unless explicitly silenced.\n",
      "In the face of ambiguity, refuse the temptation to guess.\n",
      "There should be one-- and preferably only one --obvious way to do it.\n",
      "Although that way may not be obvious at first unless you're Dutch.\n",
      "Now is better than never.\n",
      "Although never is often better than *right* now.\n",
      "If the implementation is hard to explain, it's a bad idea.\n",
      "If the implementation is easy to explain, it may be a good idea.\n",
      "Namespaces are one honking great idea -- let's do more of those!\n"
     ]
    }
   ],
   "source": [
    "import this"
   ]
  },
  {
   "cell_type": "markdown",
   "id": "54a9f6fe-0986-4096-9663-de84611d6be5",
   "metadata": {},
   "source": [
    "- **What can you do with Python?**\n",
    "> - **Data analysis** and **machine learning**,\n",
    "> - Web development,\n",
    "> - **Automation** or **scripting**,\n",
    "> - Software testing and prototyping,\n",
    "> - **Everyday tasks**."
   ]
  },
  {
   "cell_type": "markdown",
   "id": "787110d0-19a1-469a-b65c-d81236e68f9e",
   "metadata": {},
   "source": [
    "- **Why is Python so popular?**\n",
    "> - It’s **open source**, which means **it’s free** to use and distribute, even for commercial purposes,\n",
    "> - It has a **simple syntax** that mimics natural language, so it’s easier to read and understand, this makes it quicker to build projects, and faster to improve on them,\n",
    "> - It’s **beginner friendly**, making it popular for entry-level coders,\n",
    "> - It’s **versatile**, Python can be used for many different tasks, from web development to machine learning,\n",
    "> - Python’s **archive of modules and libraries—bundles** of code that third-party users have created to expand Python’s capabilities—is vast and growing,\n",
    "> - Python has a **large and active community** that contributes to Python’s pool of modules and libraries, and acts as a helpful resource for other programmers."
   ]
  },
  {
   "cell_type": "markdown",
   "id": "b8ce25dc-d543-4e4c-845f-8148ec2a6a9e",
   "metadata": {},
   "source": [
    "## 2. Installing Python - What Your Options Are"
   ]
  },
  {
   "cell_type": "markdown",
   "id": "f522a750-bedc-4747-af27-7a1e047441e3",
   "metadata": {},
   "source": [
    "- Installing or updating Python on your computer is the first step to becoming a Python programmer.\n",
    "- There are a multitude of installation methods:\n",
    "> - **Official [Python](https://www.python.org/downloads/) distributions.**\n",
    "> - **Specialized distributions** for scientific computing (**[Anaconda](https://www.anaconda.com)**),\n",
    "> - **Online Python Interpreters** (**[Replit](https://replit.com)**)."
   ]
  },
  {
   "cell_type": "markdown",
   "id": "b4740744-b426-4e63-9735-2448359d1dcf",
   "metadata": {},
   "source": [
    "## 3. Additional Resources\n",
    "- [Python 3 Installation & Setup Guide.](https://realpython.com/installing-python)\n",
    "- [Installing Anaconda on Windows Tutorial](https://www.datacamp.com/tutorial/installing-anaconda-windows)"
   ]
  },
  {
   "cell_type": "code",
   "execution_count": null,
   "id": "d270bae4-28b0-47a9-abe3-5215fa690905",
   "metadata": {},
   "outputs": [],
   "source": []
  }
 ],
 "metadata": {
  "kernelspec": {
   "display_name": "Python 3 (ipykernel)",
   "language": "python",
   "name": "python3"
  },
  "language_info": {
   "codemirror_mode": {
    "name": "ipython",
    "version": 3
   },
   "file_extension": ".py",
   "mimetype": "text/x-python",
   "name": "python",
   "nbconvert_exporter": "python",
   "pygments_lexer": "ipython3",
   "version": "3.10.8"
  }
 },
 "nbformat": 4,
 "nbformat_minor": 5
}
