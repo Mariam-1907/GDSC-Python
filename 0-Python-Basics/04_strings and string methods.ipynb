{
 "cells": [
  {
   "cell_type": "markdown",
   "id": "01708d7e-d010-4c29-af37-9fcd6713ef1a",
   "metadata": {},
   "source": [
    "# Strings and String Methods"
   ]
  },
  {
   "cell_type": "markdown",
   "id": "7254404e-e72d-4d6d-b881-69f936bcfbc0",
   "metadata": {},
   "source": [
    "- In this chapter, you will learn how to:\n",
    "> - **Manipulate** strings with **string methods**,\n",
    "> - Work with **user input**,\n",
    "> - Deal with **strings of numbers**,\n",
    "> - **Format strings** for printing."
   ]
  },
  {
   "cell_type": "markdown",
   "id": "96ebc69d-cb91-43b4-8e5c-886083a65fd7",
   "metadata": {},
   "source": [
    "## 1. What is a String?"
   ]
  },
  {
   "cell_type": "markdown",
   "id": "b39ec671-7aea-45de-838e-c2356824576c",
   "metadata": {},
   "source": [
    "### 1.1. The String Data Type"
   ]
  },
  {
   "cell_type": "markdown",
   "id": "b5e1ec1a-9b6d-4bed-b645-a251a78c3b24",
   "metadata": {},
   "source": [
    "- Strings are one of the **fundamental** Python data types:\n",
    "> - The term **data type** refers to what **kind** of data a value represents, strings are used to **represent text**,\n",
    "> - Strings are a **fundamental** data type because they **can’t be broken down into smaller values of a different type**,\n",
    "> - There are **more compound** data types (also known as **data structures**) that may **share some similarities with strings**."
   ]
  },
  {
   "cell_type": "markdown",
   "id": "21cb921f-674f-4f74-b9f6-ebf6a9e79624",
   "metadata": {},
   "source": [
    "- The string data type has a **special abbreviated name in Python**: `str`, you can see this by using the `type()` function, which is used to **determine the data type of a given value**:"
   ]
  },
  {
   "cell_type": "code",
   "execution_count": 1,
   "id": "3b78cff7-6dcf-4572-86ac-bc429edaa4fe",
   "metadata": {
    "tags": []
   },
   "outputs": [
    {
     "data": {
      "text/plain": [
       "str"
      ]
     },
     "execution_count": 1,
     "metadata": {},
     "output_type": "execute_result"
    }
   ],
   "source": [
    "type(\"GDSC - Getting Started with Python\")"
   ]
  },
  {
   "cell_type": "markdown",
   "id": "591d217d-7569-4155-adaf-6da80eabdce7",
   "metadata": {},
   "source": [
    "- The output indicates that the value is an **instance** of the `str` data type."
   ]
  },
  {
   "cell_type": "markdown",
   "id": "716859ed-6f69-4c8f-8093-f51dd3bcd7dc",
   "metadata": {},
   "source": [
    "- You can **create a string** by:\n",
    "> - Simply typing the string explicitly (**string literal** - a string literal is a string value that is written explicitly in your code),\n",
    "> - Using the `str()` function (**constructor**),\n",
    "> - Capturing a string as **user input**."
   ]
  },
  {
   "cell_type": "code",
   "execution_count": 2,
   "id": "0270a1e5-2388-4312-8c9f-40d5fabaf561",
   "metadata": {
    "tags": []
   },
   "outputs": [
    {
     "data": {
      "text/plain": [
       "str"
      ]
     },
     "execution_count": 2,
     "metadata": {},
     "output_type": "execute_result"
    }
   ],
   "source": [
    "year = \"2023\"  # String literal.\n",
    "type(year)"
   ]
  },
  {
   "cell_type": "code",
   "execution_count": 3,
   "id": "72f4ee1c-f238-4e90-8f47-08fdd32d0b04",
   "metadata": {
    "tags": []
   },
   "outputs": [
    {
     "data": {
      "text/plain": [
       "str"
      ]
     },
     "execution_count": 3,
     "metadata": {},
     "output_type": "execute_result"
    }
   ],
   "source": [
    "year = str(2023)  # Constructor - Not a string literal.\n",
    "type(year)"
   ]
  },
  {
   "cell_type": "code",
   "execution_count": 8,
   "id": "d4bca0e7-89df-400c-a44f-c4da06b9e1bc",
   "metadata": {
    "tags": []
   },
   "outputs": [
    {
     "name": "stdin",
     "output_type": "stream",
     "text": [
      "Name:  John Smith\n"
     ]
    },
    {
     "data": {
      "text/plain": [
       "str"
      ]
     },
     "execution_count": 8,
     "metadata": {},
     "output_type": "execute_result"
    }
   ],
   "source": [
    "user_input = input(\"Name: \")  # Capture user input as a string.\n",
    "type(user_input)"
   ]
  },
  {
   "cell_type": "markdown",
   "id": "4cfa82a2-9f6f-4500-a206-fe2bc51b7a21",
   "metadata": {},
   "source": [
    "- Strings **have three properties** that you’ll explore in the coming sections:\n",
    "> - Strings **contain characters**, which are individual letters or symbols,\n",
    "> - Strings **have a length**, which is the number of characters contained in the string,\n",
    "> - Characters in a string appear in a **sequence**, meaning each character has a numbered position in the string."
   ]
  },
  {
   "cell_type": "markdown",
   "id": "3fb70d38-e059-411c-a562-a18239119325",
   "metadata": {},
   "source": [
    "### 1.2. String Literals"
   ]
  },
  {
   "cell_type": "markdown",
   "id": "ce7a13a8-b99c-4c06-a4ba-9e5034269b43",
   "metadata": {},
   "source": [
    "- As you’ve already seen, you can create a string by **surrounding some text with quotation marks**."
   ]
  },
  {
   "cell_type": "code",
   "execution_count": 5,
   "id": "04eeb489-8b23-4401-9c5b-a05b5d08de9b",
   "metadata": {},
   "outputs": [],
   "source": [
    "course = 'GDSC - Getting Started with Python'\n",
    "year = \"2023\""
   ]
  },
  {
   "cell_type": "markdown",
   "id": "831aee10-74a9-4dc8-9e64-27e3ebc1bbce",
   "metadata": {},
   "source": [
    "- Either **single** quotes <`course`> or **double** quotes <`year`> can be used to create a string, **as long as both quotation marks are the same type**.\n",
    "- The **quotes** surrounding a string are called **delimiters** because they **tell Python where a string begins and where it ends**.\n",
    "- When one type of quotes is used as the delimiter, **the other type of quote can be used inside of the string**:\n",
    "> - After Python reads the **first delimiter**, all of the characters after it are considered a part of the string until a **second matching delimiter** is read,\n",
    "> - This is why you can use a **single quote in a string delimited by double quotes and vice versa**."
   ]
  },
  {
   "cell_type": "code",
   "execution_count": 10,
   "id": "cf13155e-ebc8-412a-bcc5-9a873c457bf9",
   "metadata": {
    "tags": []
   },
   "outputs": [],
   "source": [
    "msg = \"I'm going to be a little late today\"  # A Single quote inside two double quotes.\n",
    "email = 'I said, \"Do not be late!\"'  # Double quotes inside two single quotes."
   ]
  },
  {
   "cell_type": "markdown",
   "id": "17b4981a-b2f5-4729-8239-227b90e35ac3",
   "metadata": {},
   "source": [
    "- If you try to use **double quotes** inside of a string that is delimited by **double quotes**, you will get an **error** because Python **doesn’t know how to interpret the rest of the line**:"
   ]
  },
  {
   "cell_type": "code",
   "execution_count": 11,
   "id": "0e60a46a-1882-4116-9e5f-de08ded87b29",
   "metadata": {
    "tags": []
   },
   "outputs": [
    {
     "ename": "SyntaxError",
     "evalue": "unterminated string literal (detected at line 1) (74288234.py, line 1)",
     "output_type": "error",
     "traceback": [
      "\u001b[1;36m  Cell \u001b[1;32mIn[11], line 1\u001b[1;36m\u001b[0m\n\u001b[1;33m    msg = 'I'm going to be a little late today'\u001b[0m\n\u001b[1;37m                                              ^\u001b[0m\n\u001b[1;31mSyntaxError\u001b[0m\u001b[1;31m:\u001b[0m unterminated string literal (detected at line 1)\n"
     ]
    }
   ],
   "source": [
    "msg = 'I'm going to be a little late today'"
   ]
  },
  {
   "cell_type": "code",
   "execution_count": 13,
   "id": "c44b284f-9beb-4965-999e-70de4d377378",
   "metadata": {
    "tags": []
   },
   "outputs": [
    {
     "ename": "SyntaxError",
     "evalue": "invalid syntax (3693766168.py, line 1)",
     "output_type": "error",
     "traceback": [
      "\u001b[1;36m  Cell \u001b[1;32mIn[13], line 1\u001b[1;36m\u001b[0m\n\u001b[1;33m    email = 'I said, 'Do not be late!''\u001b[0m\n\u001b[1;37m                      ^\u001b[0m\n\u001b[1;31mSyntaxError\u001b[0m\u001b[1;31m:\u001b[0m invalid syntax\n"
     ]
    }
   ],
   "source": [
    "email = 'I said, 'Do not be late!''"
   ]
  },
  {
   "cell_type": "markdown",
   "id": "170eaa7a-35be-46c3-bd94-94c8834c816f",
   "metadata": {},
   "source": [
    "- Whethe you prefer using **single** or **double** quotes, keep in mind that **there isn’t really a right or wrong choice!** The goal is to **be consistent**, because consistency helps make your code easier to read and understand."
   ]
  },
  {
   "cell_type": "markdown",
   "id": "23d99e9f-dd1e-4e40-9a12-9d476c8a971b",
   "metadata": {},
   "source": [
    "- Strings can contain any valid Unicode character:"
   ]
  },
  {
   "cell_type": "code",
   "execution_count": 14,
   "id": "11530fd6-0715-4583-b9d5-343adc65bb88",
   "metadata": {
    "tags": []
   },
   "outputs": [],
   "source": [
    "programming_language = \"×Pýŧħøŋ×\""
   ]
  },
  {
   "cell_type": "markdown",
   "id": "993bfd5a-5356-4bc3-929d-ab40d1ab0f49",
   "metadata": {},
   "source": [
    "### 1.3. Determine the Length of a String"
   ]
  },
  {
   "cell_type": "markdown",
   "id": "046bead9-9e45-4593-a577-338d5956c1a0",
   "metadata": {},
   "source": [
    "- The **number of characters contained in a string**, including spaces, is called the **length** of the string.\n",
    "- To determine a **string’s length**, you use Python’s built-in `len()` function:"
   ]
  },
  {
   "cell_type": "code",
   "execution_count": 15,
   "id": "305e0af5-9479-4a3f-9e90-56a444a3c530",
   "metadata": {
    "tags": []
   },
   "outputs": [
    {
     "data": {
      "text/plain": [
       "34"
      ]
     },
     "execution_count": 15,
     "metadata": {},
     "output_type": "execute_result"
    }
   ],
   "source": [
    "len(course)"
   ]
  },
  {
   "cell_type": "code",
   "execution_count": null,
   "id": "6faff5cf-336c-4b6e-97c3-fd4a525d2bd3",
   "metadata": {},
   "outputs": [],
   "source": []
  }
 ],
 "metadata": {
  "kernelspec": {
   "display_name": "GDSC",
   "language": "python",
   "name": "gdsc"
  },
  "language_info": {
   "codemirror_mode": {
    "name": "ipython",
    "version": 3
   },
   "file_extension": ".py",
   "mimetype": "text/x-python",
   "name": "python",
   "nbconvert_exporter": "python",
   "pygments_lexer": "ipython3",
   "version": "3.10.10"
  }
 },
 "nbformat": 4,
 "nbformat_minor": 5
}
