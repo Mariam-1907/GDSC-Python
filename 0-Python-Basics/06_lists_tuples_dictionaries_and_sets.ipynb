{
 "cells": [
  {
   "cell_type": "markdown",
   "id": "2732c8df-1de9-416e-a6c8-99f0758957d5",
   "metadata": {},
   "source": [
    "# Lists, Tuples, Dictionaries and Sets"
   ]
  },
  {
   "cell_type": "markdown",
   "id": "8595b177-889b-4287-92ba-5e04e5ecc154",
   "metadata": {},
   "source": [
    "- So far, you have been working with **fundamental data types** like `str`, `int`, and `float`.\n",
    "- Many real-world problems are easier to solve when **simple data types are combined into more complex data structures**.\n",
    "- **A data structure models a collection of data**, such as a list of numbers, a row in a spreadsheet, or a record in a database. \n",
    "- Python has **four built-in data structures** that are the focus of this chapter:\n",
    "> - `lists`,\n",
    "> - `tuples`,\n",
    "> - `dictionaries`,\n",
    "> - `sets`."
   ]
  },
  {
   "cell_type": "markdown",
   "id": "e22383cc-899f-4ba5-bdd9-910ada8abb76",
   "metadata": {},
   "source": [
    "- **In this chapter, you will learn:**\n",
    "> - How to **work with different built-in data structures** in Python,\n",
    "> - What **immutability** is and why it is important,\n",
    "> - When to use **different** data structures."
   ]
  },
  {
   "cell_type": "markdown",
   "id": "6a816b0e-f53d-46fb-be29-9bbc9f066d4e",
   "metadata": {},
   "source": [
    "## 1. Lists are Mutable Sequences"
   ]
  },
  {
   "cell_type": "markdown",
   "id": "59d17f1a-4e1e-4d85-be1e-f6219a404af9",
   "metadata": {},
   "source": [
    "### The `list` Data Type"
   ]
  },
  {
   "cell_type": "markdown",
   "id": "5c76fe52-425d-4c6c-8e3a-2d99dc51cdd7",
   "metadata": {},
   "source": [
    "- In short, a `list` is a **collection of arbitrary objects**, somewhat akin to an **array** in many other programming languages but **more flexible**.\n",
    "- The **important characteristics** of Python lists are as follows:\n",
    "> - Lists have a **finite length**,\n",
    "> - Lists can contain **any arbitrary objects**,\n",
    "> - Lists are **ordered**,\n",
    "> - List elements can be accessed by **index**,\n",
    "> - Lists can be **nested** to arbitrary depth,\n",
    "> - Lists are **mutable** nad dynamic."
   ]
  },
  {
   "cell_type": "markdown",
   "id": "46765a01-6e32-4c70-b394-2f8eaf0853cf",
   "metadata": {},
   "source": [
    "### Creating Lists"
   ]
  },
  {
   "cell_type": "markdown",
   "id": "789c63a1-9222-46e5-bcda-7a6c39900a15",
   "metadata": {},
   "source": [
    "- Lists can be created in **many ways**:\n",
    "> - Using a **list literal**,\n",
    "> - Using the **`list()` built-in constructor** to create a new `list` object from any **other sequence**, a common use case is to **create a new list from a range of numbers**,\n",
    "> - Using the **`.split()` string method**."
   ]
  },
  {
   "cell_type": "code",
   "execution_count": 1,
   "id": "b1ae0c5c-a4aa-4dd5-b53f-05417f027de1",
   "metadata": {
    "tags": []
   },
   "outputs": [
    {
     "data": {
      "text/plain": [
       "[1, 2, 3, 4]"
      ]
     },
     "execution_count": 1,
     "metadata": {},
     "output_type": "execute_result"
    }
   ],
   "source": [
    "# List literal:\n",
    "nums_list_01 = [1, 2, 3, 4]\n",
    "nums_list_01"
   ]
  },
  {
   "cell_type": "code",
   "execution_count": 2,
   "id": "ce730665-2424-4af6-8e0e-ec5a9917280f",
   "metadata": {},
   "outputs": [
    {
     "data": {
      "text/plain": [
       "list"
      ]
     },
     "execution_count": 2,
     "metadata": {},
     "output_type": "execute_result"
    }
   ],
   "source": [
    "type(nums_list_01)"
   ]
  },
  {
   "cell_type": "code",
   "execution_count": 3,
   "id": "2f47408b-b2a2-4f94-9c1d-30c7978f8c1b",
   "metadata": {
    "tags": []
   },
   "outputs": [
    {
     "data": {
      "text/plain": [
       "[1, 2, 3, 4]"
      ]
     },
     "execution_count": 3,
     "metadata": {},
     "output_type": "execute_result"
    }
   ],
   "source": [
    "# Built-in constructor:\n",
    "nums_range = range(1, 5)\n",
    "nums_list_02 = list(nums_range)\n",
    "nums_list_02"
   ]
  },
  {
   "cell_type": "code",
   "execution_count": 4,
   "id": "273337a4-0fdd-4f00-9762-f8412689c55c",
   "metadata": {
    "tags": []
   },
   "outputs": [
    {
     "data": {
      "text/plain": [
       "list"
      ]
     },
     "execution_count": 4,
     "metadata": {},
     "output_type": "execute_result"
    }
   ],
   "source": [
    "type(nums_list_02)"
   ]
  },
  {
   "cell_type": "code",
   "execution_count": 5,
   "id": "d04e1cd7-165f-47b4-a6ee-f0aa4b5f79be",
   "metadata": {
    "tags": []
   },
   "outputs": [
    {
     "data": {
      "text/plain": [
       "['1', '2', '3', '4']"
      ]
     },
     "execution_count": 5,
     "metadata": {},
     "output_type": "execute_result"
    }
   ],
   "source": [
    "# .split() method:\n",
    "nums_str = \"1, 2, 3, 4\"\n",
    "nums_list_03 = nums_str.split(\", \")\n",
    "nums_list_03"
   ]
  },
  {
   "cell_type": "code",
   "execution_count": 6,
   "id": "db25b2e6-d412-40b4-8c6e-e02a30a333da",
   "metadata": {
    "tags": []
   },
   "outputs": [
    {
     "data": {
      "text/plain": [
       "list"
      ]
     },
     "execution_count": 6,
     "metadata": {},
     "output_type": "execute_result"
    }
   ],
   "source": [
    "type(nums_list_03)"
   ]
  },
  {
   "cell_type": "code",
   "execution_count": 7,
   "id": "d13d3270-9c2a-4b2e-b2e5-eeb965a25fd8",
   "metadata": {
    "tags": []
   },
   "outputs": [
    {
     "data": {
      "text/plain": [
       "['1', ',', ' ', '2', ',', ' ', '3', ',', ' ', '4']"
      ]
     },
     "execution_count": 7,
     "metadata": {},
     "output_type": "execute_result"
    }
   ],
   "source": [
    "# Note the difference:\n",
    "nums_str = \"1, 2, 3, 4\"\n",
    "nums_list_04 = list(nums_str)\n",
    "nums_list_04"
   ]
  },
  {
   "cell_type": "code",
   "execution_count": 8,
   "id": "2d4a8837-b63f-4cda-80e7-2481163157d0",
   "metadata": {
    "tags": []
   },
   "outputs": [
    {
     "data": {
      "text/plain": [
       "list"
      ]
     },
     "execution_count": 8,
     "metadata": {},
     "output_type": "execute_result"
    }
   ],
   "source": [
    "type(nums_list_04)"
   ]
  },
  {
   "cell_type": "markdown",
   "id": "59a4c8e7-f40a-421e-9e74-6d15b48de315",
   "metadata": {
    "tags": []
   },
   "source": [
    "### Basic List Operations"
   ]
  },
  {
   "cell_type": "markdown",
   "id": "5c0c99e4-1886-4e19-8316-5a818fd3b849",
   "metadata": {},
   "source": [
    "#### Getting a List Length"
   ]
  },
  {
   "cell_type": "markdown",
   "id": "84e6cc4f-f347-4271-a5aa-ca2408885ff9",
   "metadata": {},
   "source": [
    "- Getting a list length works on lists **the same way it does on strings**."
   ]
  },
  {
   "cell_type": "code",
   "execution_count": 9,
   "id": "4f92daa2-1ad7-4667-97a6-ec911569a34b",
   "metadata": {
    "tags": []
   },
   "outputs": [
    {
     "data": {
      "text/plain": [
       "3"
      ]
     },
     "execution_count": 9,
     "metadata": {},
     "output_type": "execute_result"
    }
   ],
   "source": [
    "langs_list = [\"Python\", \"C\", \"JavaScript\"]\n",
    "len(langs_list)"
   ]
  },
  {
   "cell_type": "markdown",
   "id": "742b17ed-d20f-4124-bcdf-c4e75f3f85d7",
   "metadata": {},
   "source": [
    "#### Indexing and Slicing"
   ]
  },
  {
   "cell_type": "markdown",
   "id": "6f8cbf56-47c1-4980-afc2-9ddba7f5e574",
   "metadata": {},
   "source": [
    "- Indexing and slicing operations work on lists **the same way they do on strings**.\n",
    "> - Like strings, **the indexing of a list starts from 0**,\n",
    "> - The **syntax for slicing** is `slice = some_list[start:stop:step]`."
   ]
  },
  {
   "cell_type": "code",
   "execution_count": 10,
   "id": "ecdcc5e3-7594-4f70-9102-6568d623c788",
   "metadata": {
    "tags": []
   },
   "outputs": [],
   "source": [
    "langs_list = [\"Python\", \"C\", \"JavaScript\"]"
   ]
  },
  {
   "cell_type": "code",
   "execution_count": 11,
   "id": "2624a67f-d47a-4771-ba13-62ffc89026a2",
   "metadata": {
    "tags": []
   },
   "outputs": [
    {
     "data": {
      "text/plain": [
       "'C'"
      ]
     },
     "execution_count": 11,
     "metadata": {},
     "output_type": "execute_result"
    }
   ],
   "source": [
    "langs_list[1]  # The second element."
   ]
  },
  {
   "cell_type": "code",
   "execution_count": 12,
   "id": "5cd6fd59-910c-45dc-858c-d20ad1fa2e41",
   "metadata": {
    "tags": []
   },
   "outputs": [
    {
     "data": {
      "text/plain": [
       "'Python'"
      ]
     },
     "execution_count": 12,
     "metadata": {},
     "output_type": "execute_result"
    }
   ],
   "source": [
    "langs_list[0]  # The first element."
   ]
  },
  {
   "cell_type": "code",
   "execution_count": 13,
   "id": "39f88792-1808-4a53-aee2-06a16cbd54e8",
   "metadata": {
    "tags": []
   },
   "outputs": [
    {
     "data": {
      "text/plain": [
       "['a', 'b', 'c', 'd', 'e']"
      ]
     },
     "execution_count": 13,
     "metadata": {},
     "output_type": "execute_result"
    }
   ],
   "source": [
    "letters_list = list(\"abcde\")\n",
    "letters_list"
   ]
  },
  {
   "cell_type": "code",
   "execution_count": 14,
   "id": "b53a11f2-33f9-44f3-8d88-c9c255b29315",
   "metadata": {
    "tags": []
   },
   "outputs": [
    {
     "data": {
      "text/plain": [
       "['b', 'c']"
      ]
     },
     "execution_count": 14,
     "metadata": {},
     "output_type": "execute_result"
    }
   ],
   "source": [
    "letters_list[1:3]"
   ]
  },
  {
   "cell_type": "code",
   "execution_count": 15,
   "id": "e465e8b7-3264-497f-892b-37ac9d0ef54e",
   "metadata": {
    "tags": []
   },
   "outputs": [
    {
     "data": {
      "text/plain": [
       "['a', 'c', 'e']"
      ]
     },
     "execution_count": 15,
     "metadata": {},
     "output_type": "execute_result"
    }
   ],
   "source": [
    "letters_list[0:5:2]"
   ]
  },
  {
   "cell_type": "markdown",
   "id": "d4705cba-637f-4f0c-83b0-62a3048c8ab6",
   "metadata": {},
   "source": [
    "- The **`.index()` method** returns the **index number for the first instance of the value** you are passing, it will **give an error** if the value is not in the list."
   ]
  },
  {
   "cell_type": "code",
   "execution_count": 16,
   "id": "6db6bd69-66a7-4034-9003-5c86c026b51b",
   "metadata": {
    "tags": []
   },
   "outputs": [],
   "source": [
    "langs_list = [\"Python\", \"C\", \"JavaScript\", \"C\"]"
   ]
  },
  {
   "cell_type": "code",
   "execution_count": 17,
   "id": "2a1f5d74-8373-4152-a83a-6212e8dd66ac",
   "metadata": {
    "tags": []
   },
   "outputs": [
    {
     "data": {
      "text/plain": [
       "0"
      ]
     },
     "execution_count": 17,
     "metadata": {},
     "output_type": "execute_result"
    }
   ],
   "source": [
    "langs_list.index(\"Python\")"
   ]
  },
  {
   "cell_type": "code",
   "execution_count": 18,
   "id": "cc5b1c0a-ab68-4551-b7f8-891697d8dc84",
   "metadata": {
    "tags": []
   },
   "outputs": [
    {
     "ename": "ValueError",
     "evalue": "'python' is not in list",
     "output_type": "error",
     "traceback": [
      "\u001b[1;31m---------------------------------------------------------------------------\u001b[0m",
      "\u001b[1;31mValueError\u001b[0m                                Traceback (most recent call last)",
      "Cell \u001b[1;32mIn[18], line 1\u001b[0m\n\u001b[1;32m----> 1\u001b[0m \u001b[43mlangs_list\u001b[49m\u001b[38;5;241;43m.\u001b[39;49m\u001b[43mindex\u001b[49m\u001b[43m(\u001b[49m\u001b[38;5;124;43m\"\u001b[39;49m\u001b[38;5;124;43mpython\u001b[39;49m\u001b[38;5;124;43m\"\u001b[39;49m\u001b[43m)\u001b[49m\n",
      "\u001b[1;31mValueError\u001b[0m: 'python' is not in list"
     ]
    }
   ],
   "source": [
    "langs_list.index(\"python\")"
   ]
  },
  {
   "cell_type": "markdown",
   "id": "96a11907-e5a6-4fb7-b19c-07f0fbc32a97",
   "metadata": {},
   "source": [
    "#### Testing for Membership"
   ]
  },
  {
   "cell_type": "markdown",
   "id": "074d9ef2-5227-4352-a930-8685d814814e",
   "metadata": {},
   "source": [
    "- You can **check for the existence** of list elements using the **`in` operator**:"
   ]
  },
  {
   "cell_type": "code",
   "execution_count": null,
   "id": "1ffa2079-103a-4c3c-b06b-ce696b09b38a",
   "metadata": {
    "tags": []
   },
   "outputs": [],
   "source": [
    "\"Python\" in langs_list"
   ]
  },
  {
   "cell_type": "code",
   "execution_count": null,
   "id": "450bd25a-7df4-421d-8add-150e16b61068",
   "metadata": {
    "tags": []
   },
   "outputs": [],
   "source": [
    "\"python\" in langs_list"
   ]
  },
  {
   "cell_type": "markdown",
   "id": "41f50dc1-f470-4463-a5f7-d7d5b146c483",
   "metadata": {},
   "source": [
    "#### Getting the number of times a value Appears in a List"
   ]
  },
  {
   "cell_type": "code",
   "execution_count": 19,
   "id": "2789abd8-dbf4-4bb1-8903-b76fd7e29e03",
   "metadata": {
    "tags": []
   },
   "outputs": [],
   "source": [
    "nums_list = [1, 2, 2, 3, 4]"
   ]
  },
  {
   "cell_type": "code",
   "execution_count": 20,
   "id": "9cfbf5e5-5960-4bc5-98dd-366c0ba5da17",
   "metadata": {
    "tags": []
   },
   "outputs": [
    {
     "data": {
      "text/plain": [
       "2"
      ]
     },
     "execution_count": 20,
     "metadata": {},
     "output_type": "execute_result"
    }
   ],
   "source": [
    "nums_list.count(2)"
   ]
  },
  {
   "cell_type": "markdown",
   "id": "7b68ee31-cabe-41c3-9d69-628460ab1256",
   "metadata": {},
   "source": [
    "#### Iterating over List Elements"
   ]
  },
  {
   "cell_type": "code",
   "execution_count": 21,
   "id": "5739504a-9cad-41fe-874f-46a196dd862b",
   "metadata": {
    "tags": []
   },
   "outputs": [
    {
     "data": {
      "text/plain": [
       "['Python', 'C', 'JavaScript', 'C']"
      ]
     },
     "execution_count": 21,
     "metadata": {},
     "output_type": "execute_result"
    }
   ],
   "source": [
    "langs_list"
   ]
  },
  {
   "cell_type": "code",
   "execution_count": 22,
   "id": "d8cc48ff-cdf0-4fe4-9b3d-9052a29199be",
   "metadata": {
    "tags": []
   },
   "outputs": [
    {
     "name": "stdout",
     "output_type": "stream",
     "text": [
      "Python\n",
      "C\n",
      "JavaScript\n",
      "C\n"
     ]
    }
   ],
   "source": [
    "for lang in langs_list:\n",
    "    print(lang)"
   ]
  },
  {
   "cell_type": "markdown",
   "id": "542592cf-a69d-4c43-8b0f-5258990cba5d",
   "metadata": {},
   "source": [
    "#### Changing Elements in a List"
   ]
  },
  {
   "cell_type": "markdown",
   "id": "30f97430-75e9-4fd6-9491-67e714d117d4",
   "metadata": {},
   "source": [
    "- Think of a list as a **sequence of numbered slots**.\n",
    "> - **Each slot holds a value**, and every slot must be filled at all times,\n",
    "> - You can **swap out the value in a given slot with a new one** whenever you want.\n",
    "- The ability to swap values in a list for other values is called **mutability**, a list objetc is **mutable**.\n",
    "- To swap a value in a list with another, **assign the new value to a slot using index notation**:"
   ]
  },
  {
   "cell_type": "code",
   "execution_count": 23,
   "id": "f3933bb0-6ed1-488f-9334-8276b402d783",
   "metadata": {
    "tags": []
   },
   "outputs": [],
   "source": [
    "nums_list = [7, 3, 9]"
   ]
  },
  {
   "cell_type": "code",
   "execution_count": 24,
   "id": "31698e20-5cd2-468a-b9b8-af740c393352",
   "metadata": {
    "tags": []
   },
   "outputs": [
    {
     "data": {
      "text/plain": [
       "[7, 8, 9]"
      ]
     },
     "execution_count": 24,
     "metadata": {},
     "output_type": "execute_result"
    }
   ],
   "source": [
    "nums_list[1] = 8\n",
    "nums_list"
   ]
  },
  {
   "cell_type": "markdown",
   "id": "ff995c2f-96ed-4098-b8d0-97dae487f3fc",
   "metadata": {},
   "source": [
    "- You can **change several values in a list** at once with a **slice assignment**:"
   ]
  },
  {
   "cell_type": "code",
   "execution_count": 25,
   "id": "03fcf748-7297-43b3-832f-7522c216a92d",
   "metadata": {
    "tags": []
   },
   "outputs": [],
   "source": [
    "nums_list = [7, 3, 4]"
   ]
  },
  {
   "cell_type": "code",
   "execution_count": 26,
   "id": "0f737f7d-b382-424e-95a0-f1f42734bc6c",
   "metadata": {
    "tags": []
   },
   "outputs": [
    {
     "data": {
      "text/plain": [
       "[7, 8, 9]"
      ]
     },
     "execution_count": 26,
     "metadata": {},
     "output_type": "execute_result"
    }
   ],
   "source": [
    "nums_list[1:3] = [8, 9]\n",
    "nums_list"
   ]
  },
  {
   "cell_type": "markdown",
   "id": "bb4ea4f2-e237-4a0b-8b5e-683c3681a495",
   "metadata": {},
   "source": [
    "- The list assigned to a slice **does not need to have the same length as the slice**:"
   ]
  },
  {
   "cell_type": "code",
   "execution_count": 27,
   "id": "9ceb5e15-bcc9-462c-b7ad-1ab25d28c0a0",
   "metadata": {
    "tags": []
   },
   "outputs": [
    {
     "data": {
      "text/plain": [
       "[7, 8, 9, 10, 11, 12]"
      ]
     },
     "execution_count": 27,
     "metadata": {},
     "output_type": "execute_result"
    }
   ],
   "source": [
    "nums_list[3:] = [10, 11, 12]\n",
    "nums_list"
   ]
  },
  {
   "cell_type": "markdown",
   "id": "938ba889-4e2f-4abb-952a-ebf8ef54ce96",
   "metadata": {},
   "source": [
    "- When the length of the list being assigned to the slice is **less than** the length of the slice, **the overall length of the original list is reduced**:"
   ]
  },
  {
   "cell_type": "code",
   "execution_count": 28,
   "id": "19bb2771-57d2-4661-ab76-18fbf2f1def9",
   "metadata": {
    "tags": []
   },
   "outputs": [
    {
     "data": {
      "text/plain": [
       "[7, 8, 9, 10, 11, 12]"
      ]
     },
     "execution_count": 28,
     "metadata": {},
     "output_type": "execute_result"
    }
   ],
   "source": [
    "nums_list"
   ]
  },
  {
   "cell_type": "code",
   "execution_count": 29,
   "id": "b410e7ed-0361-4030-90b9-6fc4aa1a53c3",
   "metadata": {
    "tags": []
   },
   "outputs": [
    {
     "data": {
      "text/plain": [
       "6"
      ]
     },
     "execution_count": 29,
     "metadata": {},
     "output_type": "execute_result"
    }
   ],
   "source": [
    "len(nums_list)"
   ]
  },
  {
   "cell_type": "code",
   "execution_count": 30,
   "id": "75965f52-520b-4f98-988c-7d4e9995cd4f",
   "metadata": {
    "tags": []
   },
   "outputs": [
    {
     "data": {
      "text/plain": [
       "[7, 8, 9]"
      ]
     },
     "execution_count": 30,
     "metadata": {},
     "output_type": "execute_result"
    }
   ],
   "source": [
    "nums_list[:] = [7, 8, 9]\n",
    "nums_list"
   ]
  },
  {
   "cell_type": "markdown",
   "id": "4cb91a67-7a5c-4b59-a881-85dbb639e068",
   "metadata": {},
   "source": [
    "#### List Methods and Operations for Adding Elements"
   ]
  },
  {
   "cell_type": "markdown",
   "id": "e254910a-dede-4b65-9590-526065d47314",
   "metadata": {},
   "source": [
    "- The list **`.append()` method** is used to **append an new element to the end of a list**:"
   ]
  },
  {
   "cell_type": "code",
   "execution_count": 31,
   "id": "8e0b271e-22da-4d19-bb13-6bf38318cdb2",
   "metadata": {
    "tags": []
   },
   "outputs": [],
   "source": [
    "nums_list = [1, 2, 3, 4]"
   ]
  },
  {
   "cell_type": "code",
   "execution_count": 32,
   "id": "c20dbedf-2b43-4617-be0e-abefcb8a564a",
   "metadata": {
    "tags": []
   },
   "outputs": [
    {
     "data": {
      "text/plain": [
       "[1, 2, 3, 4, 5]"
      ]
     },
     "execution_count": 32,
     "metadata": {},
     "output_type": "execute_result"
    }
   ],
   "source": [
    "nums_list.append(5)\n",
    "nums_list"
   ]
  },
  {
   "cell_type": "markdown",
   "id": "68a4fef5-6a1f-4cdc-8ee1-e57e81e942dd",
   "metadata": {},
   "source": [
    "- A common use case for `.append()` to with a for loop is to create a list of new elements in three steps:\n",
    "> - Instantiate an **empty list**,\n",
    "> - **Loop over an iterable** or range of elements,\n",
    "> - **Append new elements** to the end of the list."
   ]
  },
  {
   "cell_type": "code",
   "execution_count": 33,
   "id": "9ee81e1d-d4fd-476e-a215-af2422d80d15",
   "metadata": {
    "tags": []
   },
   "outputs": [
    {
     "data": {
      "text/plain": [
       "[1, 2, 3, 4, 5, 6, 7, 8, 9, 10, 11, 12, 13, 14, 15, 16, 17, 18, 19, 20]"
      ]
     },
     "execution_count": 33,
     "metadata": {},
     "output_type": "execute_result"
    }
   ],
   "source": [
    "nums_list = list(range(1, 21))\n",
    "nums_list"
   ]
  },
  {
   "cell_type": "code",
   "execution_count": 34,
   "id": "05553915-af0d-4630-9b16-f72265b6e910",
   "metadata": {
    "tags": []
   },
   "outputs": [],
   "source": [
    "# Instantiate two lists for splitting numbers to odd or even:\n",
    "odd_nums_list = []\n",
    "even_nums_list = []\n",
    "\n",
    "# Iterate over the original list:\n",
    "for num in nums_list:\n",
    "    # If number is even append to even_nums_list:\n",
    "    if num % 2 == 0:\n",
    "        even_nums_list.append(num)\n",
    "    # If number is odd append to odd_nums_list:\n",
    "    else:\n",
    "        odd_nums_list.append(num)"
   ]
  },
  {
   "cell_type": "code",
   "execution_count": 35,
   "id": "dc9ffdf9-fab1-4685-a4ff-30aca4d5cb73",
   "metadata": {
    "tags": []
   },
   "outputs": [
    {
     "data": {
      "text/plain": [
       "[1, 3, 5, 7, 9, 11, 13, 15, 17, 19]"
      ]
     },
     "execution_count": 35,
     "metadata": {},
     "output_type": "execute_result"
    }
   ],
   "source": [
    "odd_nums_list"
   ]
  },
  {
   "cell_type": "code",
   "execution_count": 36,
   "id": "a228aaef-76fe-42c4-b14d-11b4d2e6d745",
   "metadata": {
    "tags": []
   },
   "outputs": [
    {
     "data": {
      "text/plain": [
       "[2, 4, 6, 8, 10, 12, 14, 16, 18, 20]"
      ]
     },
     "execution_count": 36,
     "metadata": {},
     "output_type": "execute_result"
    }
   ],
   "source": [
    "even_nums_list"
   ]
  },
  {
   "cell_type": "markdown",
   "id": "ae6cc99f-db8a-45ff-8f54-9c8a3f6cee5a",
   "metadata": {},
   "source": [
    "- The list **`.extend()` method** is used to **add several new elements to the end of a list**:"
   ]
  },
  {
   "cell_type": "code",
   "execution_count": 37,
   "id": "13f1ee7d-a201-4a69-8a1f-e46429d52b4f",
   "metadata": {
    "tags": []
   },
   "outputs": [],
   "source": [
    "nums_list = [1, 2, 3, 4]"
   ]
  },
  {
   "cell_type": "code",
   "execution_count": 38,
   "id": "23faf480-0ebf-4507-9eee-8b15f79da7ad",
   "metadata": {
    "tags": []
   },
   "outputs": [
    {
     "data": {
      "text/plain": [
       "[1, 2, 3, 4, 5, 6, 7]"
      ]
     },
     "execution_count": 38,
     "metadata": {},
     "output_type": "execute_result"
    }
   ],
   "source": [
    "nums_list.extend([5, 6, 7])\n",
    "nums_list"
   ]
  },
  {
   "cell_type": "markdown",
   "id": "2a8f2c6a-9efa-4987-9959-f68465b27e88",
   "metadata": {},
   "source": [
    "- The list **`.insert()` method** is used to **insert a single new value into a list**.\n",
    "- It takes **two parameters**, an **index** and a **value**:"
   ]
  },
  {
   "cell_type": "code",
   "execution_count": 39,
   "id": "c99ad23b-d24d-4814-828b-a17686bdc296",
   "metadata": {
    "tags": []
   },
   "outputs": [],
   "source": [
    "nums_list = [1, 2, 3, 4]"
   ]
  },
  {
   "cell_type": "code",
   "execution_count": 40,
   "id": "aac67210-2d8e-49aa-aef7-30144b4a3a38",
   "metadata": {
    "tags": []
   },
   "outputs": [
    {
     "data": {
      "text/plain": [
       "[1, 2, 3, 4, 5]"
      ]
     },
     "execution_count": 40,
     "metadata": {},
     "output_type": "execute_result"
    }
   ],
   "source": [
    "nums_list.insert(4, 5)\n",
    "nums_list"
   ]
  },
  {
   "cell_type": "code",
   "execution_count": 41,
   "id": "f9ad402b-8471-41c1-9d8f-f5fe8bf332ae",
   "metadata": {
    "tags": []
   },
   "outputs": [
    {
     "data": {
      "text/plain": [
       "[1, 2, 3, 4, 6, 5]"
      ]
     },
     "execution_count": 41,
     "metadata": {},
     "output_type": "execute_result"
    }
   ],
   "source": [
    "nums_list.insert(-1, 6)\n",
    "nums_list  # What happened?"
   ]
  },
  {
   "cell_type": "code",
   "execution_count": 42,
   "id": "093b1a1c-82c7-4bcd-9315-9472773bb725",
   "metadata": {
    "tags": []
   },
   "outputs": [
    {
     "data": {
      "text/plain": [
       "[1, 2, 3, 4, 6, 5, 7]"
      ]
     },
     "execution_count": 42,
     "metadata": {},
     "output_type": "execute_result"
    }
   ],
   "source": [
    "nums_list.insert(10, 7)\n",
    "nums_list  # What happened?"
   ]
  },
  {
   "cell_type": "markdown",
   "id": "04e71435-70d2-437b-9c67-97e62a41c3b6",
   "metadata": {},
   "source": [
    "- When you the previous list methods, **you do not need to assign the result to the original list**, these methods are said to **alter elements in place**: "
   ]
  },
  {
   "cell_type": "code",
   "execution_count": 43,
   "id": "88779005-8d79-43d5-a0e9-57f941c42fdd",
   "metadata": {
    "tags": []
   },
   "outputs": [],
   "source": [
    "nums_list = [1, 2, 3, 4]"
   ]
  },
  {
   "cell_type": "code",
   "execution_count": 44,
   "id": "d43373ba-97c3-4405-b440-55cfa26c137d",
   "metadata": {
    "tags": []
   },
   "outputs": [],
   "source": [
    "nums_list = nums_list.append(5)\n",
    "nums_list"
   ]
  },
  {
   "cell_type": "code",
   "execution_count": 45,
   "id": "1f27f890-ca83-48e6-be5a-531936d40b67",
   "metadata": {
    "tags": []
   },
   "outputs": [
    {
     "data": {
      "text/plain": [
       "NoneType"
      ]
     },
     "execution_count": 45,
     "metadata": {},
     "output_type": "execute_result"
    }
   ],
   "source": [
    "type(nums_list)"
   ]
  },
  {
   "cell_type": "code",
   "execution_count": 46,
   "id": "edcae026-b01d-42d3-bd92-36cd613927c4",
   "metadata": {
    "tags": []
   },
   "outputs": [],
   "source": [
    "nums_list = [1, 2, 3, 4]"
   ]
  },
  {
   "cell_type": "code",
   "execution_count": 47,
   "id": "70288460-2d02-4e69-bd2b-af83c68ee89e",
   "metadata": {
    "tags": []
   },
   "outputs": [],
   "source": [
    "nums_list = nums_list.extend([5, 6, 7])\n",
    "nums_list"
   ]
  },
  {
   "cell_type": "code",
   "execution_count": 48,
   "id": "a858c986-c7dc-4280-a70c-dd91a1e23046",
   "metadata": {
    "tags": []
   },
   "outputs": [],
   "source": [
    "nums_list = [1, 2, 3, 4]"
   ]
  },
  {
   "cell_type": "code",
   "execution_count": 49,
   "id": "73f03031-4bb9-4944-ad42-d565eda652c8",
   "metadata": {
    "tags": []
   },
   "outputs": [],
   "source": [
    "nums_list = nums_list.insert(4, 5)\n",
    "nums_list"
   ]
  },
  {
   "cell_type": "markdown",
   "id": "fc7618c7-2a38-4eec-a0e9-d1ec18e86d56",
   "metadata": {},
   "source": [
    "- **List addition:**"
   ]
  },
  {
   "cell_type": "code",
   "execution_count": 50,
   "id": "a052ba73-78fc-4414-bb36-2fa99085bac9",
   "metadata": {
    "tags": []
   },
   "outputs": [],
   "source": [
    "nums_list = [1, 2, 3, 4]"
   ]
  },
  {
   "cell_type": "code",
   "execution_count": 51,
   "id": "1d5c76e3-687b-4e4a-a1ca-029b06ad03a7",
   "metadata": {
    "tags": []
   },
   "outputs": [
    {
     "data": {
      "text/plain": [
       "[1, 2, 3, 4, 5]"
      ]
     },
     "execution_count": 51,
     "metadata": {},
     "output_type": "execute_result"
    }
   ],
   "source": [
    "nums_list + [5]"
   ]
  },
  {
   "cell_type": "code",
   "execution_count": 52,
   "id": "032a8514-ce2f-4301-9085-318aeb149b82",
   "metadata": {
    "tags": []
   },
   "outputs": [
    {
     "ename": "TypeError",
     "evalue": "can only concatenate list (not \"int\") to list",
     "output_type": "error",
     "traceback": [
      "\u001b[1;31m---------------------------------------------------------------------------\u001b[0m",
      "\u001b[1;31mTypeError\u001b[0m                                 Traceback (most recent call last)",
      "Cell \u001b[1;32mIn[52], line 1\u001b[0m\n\u001b[1;32m----> 1\u001b[0m \u001b[43mnums_list\u001b[49m\u001b[43m \u001b[49m\u001b[38;5;241;43m+\u001b[39;49m\u001b[43m \u001b[49m\u001b[38;5;241;43m5\u001b[39;49m\n",
      "\u001b[1;31mTypeError\u001b[0m: can only concatenate list (not \"int\") to list"
     ]
    }
   ],
   "source": [
    "nums_list + 5"
   ]
  },
  {
   "cell_type": "markdown",
   "id": "8362d95f-cd63-485b-934c-39731ef7eb55",
   "metadata": {
    "tags": []
   },
   "source": [
    "- **List multiplication:**"
   ]
  },
  {
   "cell_type": "code",
   "execution_count": 53,
   "id": "fd884a12-9740-4a95-914d-f808a8c7ebc9",
   "metadata": {
    "tags": []
   },
   "outputs": [],
   "source": [
    "nums_list = [1, 2, 3, 4]"
   ]
  },
  {
   "cell_type": "code",
   "execution_count": 54,
   "id": "a37f81a5-9cdb-4209-9861-28f1187fbcff",
   "metadata": {
    "tags": []
   },
   "outputs": [
    {
     "data": {
      "text/plain": [
       "[1, 2, 3, 4, 1, 2, 3, 4]"
      ]
     },
     "execution_count": 54,
     "metadata": {},
     "output_type": "execute_result"
    }
   ],
   "source": [
    "nums_list * 2"
   ]
  },
  {
   "cell_type": "code",
   "execution_count": 55,
   "id": "8c625bb9-ab0f-443a-9010-ed04bab7fe06",
   "metadata": {
    "tags": []
   },
   "outputs": [
    {
     "ename": "TypeError",
     "evalue": "can't multiply sequence by non-int of type 'list'",
     "output_type": "error",
     "traceback": [
      "\u001b[1;31m---------------------------------------------------------------------------\u001b[0m",
      "\u001b[1;31mTypeError\u001b[0m                                 Traceback (most recent call last)",
      "Cell \u001b[1;32mIn[55], line 1\u001b[0m\n\u001b[1;32m----> 1\u001b[0m \u001b[43mnums_list\u001b[49m\u001b[43m \u001b[49m\u001b[38;5;241;43m*\u001b[39;49m\u001b[43m \u001b[49m\u001b[43mnums_list\u001b[49m\n",
      "\u001b[1;31mTypeError\u001b[0m: can't multiply sequence by non-int of type 'list'"
     ]
    }
   ],
   "source": [
    "nums_list * nums_list"
   ]
  },
  {
   "cell_type": "markdown",
   "id": "7aa947bd-2c57-467b-8bc9-ec106d157eaa",
   "metadata": {},
   "source": [
    "#### List Methods for Deleting Elements"
   ]
  },
  {
   "cell_type": "markdown",
   "id": "bcbc08a3-d2f3-4eaf-9896-1ccb6bdcc098",
   "metadata": {},
   "source": [
    "- The list **`.pop()` method** takes one parameter, an **index** and **removes the value from the list at that index**, the value that is removed **is returned by the method**:"
   ]
  },
  {
   "cell_type": "code",
   "execution_count": 56,
   "id": "b0df50af-7704-4fff-8828-bd3bc33bf7c9",
   "metadata": {
    "tags": []
   },
   "outputs": [],
   "source": [
    "nums_list = [1, 2, 3, 4]"
   ]
  },
  {
   "cell_type": "code",
   "execution_count": 57,
   "id": "e1d7fd68-934c-4bc9-9815-f037a28e876a",
   "metadata": {
    "tags": []
   },
   "outputs": [],
   "source": [
    "n = nums_list.pop(3)"
   ]
  },
  {
   "cell_type": "code",
   "execution_count": 58,
   "id": "d5b90c64-725c-4520-8434-4f3c625b691f",
   "metadata": {
    "tags": []
   },
   "outputs": [
    {
     "data": {
      "text/plain": [
       "[1, 2, 3]"
      ]
     },
     "execution_count": 58,
     "metadata": {},
     "output_type": "execute_result"
    }
   ],
   "source": [
    "nums_list"
   ]
  },
  {
   "cell_type": "code",
   "execution_count": 59,
   "id": "e0f0e67b-7ff6-48cc-ac73-bd579524f975",
   "metadata": {
    "tags": []
   },
   "outputs": [
    {
     "data": {
      "text/plain": [
       "4"
      ]
     },
     "execution_count": 59,
     "metadata": {},
     "output_type": "execute_result"
    }
   ],
   "source": [
    "n"
   ]
  },
  {
   "cell_type": "markdown",
   "id": "92c5bd45-e6be-47ec-b4e3-107e4b6a5c64",
   "metadata": {},
   "source": [
    "- **Negative indices** also work with `.pop()`:"
   ]
  },
  {
   "cell_type": "code",
   "execution_count": 60,
   "id": "26d07dd2-ef75-43c5-b59d-791c5336c9b6",
   "metadata": {
    "tags": []
   },
   "outputs": [],
   "source": [
    "nums_list = [1, 2, 3, 4]"
   ]
  },
  {
   "cell_type": "code",
   "execution_count": 61,
   "id": "05a22f7d-0a60-4c26-8b2a-e9af5eed76b1",
   "metadata": {
    "tags": []
   },
   "outputs": [
    {
     "data": {
      "text/plain": [
       "[1, 2, 3]"
      ]
     },
     "execution_count": 61,
     "metadata": {},
     "output_type": "execute_result"
    }
   ],
   "source": [
    "nums_list.pop(-1)\n",
    "nums_list"
   ]
  },
  {
   "cell_type": "markdown",
   "id": "609fd5e7-1fa6-4cbd-8b1e-ffaf3ed0e821",
   "metadata": {},
   "source": [
    "- If you do not pass a value to `.pop()`, **it removes the last item in the list**:"
   ]
  },
  {
   "cell_type": "code",
   "execution_count": 62,
   "id": "5f06e070-1b09-4e6f-98db-82200b42a0fd",
   "metadata": {
    "tags": []
   },
   "outputs": [],
   "source": [
    "nums_list = [1, 2, 3, 4]"
   ]
  },
  {
   "cell_type": "code",
   "execution_count": 63,
   "id": "7db773f6-4f9d-4371-8a24-35c13093e786",
   "metadata": {
    "tags": []
   },
   "outputs": [
    {
     "data": {
      "text/plain": [
       "[1, 2, 3]"
      ]
     },
     "execution_count": 63,
     "metadata": {},
     "output_type": "execute_result"
    }
   ],
   "source": [
    "nums_list.pop()\n",
    "nums_list"
   ]
  },
  {
   "cell_type": "markdown",
   "id": "9003c299-87e6-4601-a2f1-9de095ac0194",
   "metadata": {},
   "source": [
    "- Unlike `.insert()`, **Python raises an IndexError if you pass to `.pop()` an argument larger than the last index**:"
   ]
  },
  {
   "cell_type": "code",
   "execution_count": 64,
   "id": "1e15f94d-85a2-47a6-ad8a-9dd5a793229d",
   "metadata": {
    "tags": []
   },
   "outputs": [],
   "source": [
    "nums_list = [1, 2, 3, 4]"
   ]
  },
  {
   "cell_type": "code",
   "execution_count": 65,
   "id": "6659a672-a879-427e-bb1e-43855a6c4b4e",
   "metadata": {
    "tags": []
   },
   "outputs": [
    {
     "data": {
      "text/plain": [
       "[1, 2, 3, 4, 5]"
      ]
     },
     "execution_count": 65,
     "metadata": {},
     "output_type": "execute_result"
    }
   ],
   "source": [
    "nums_list.insert(10, 5)\n",
    "nums_list"
   ]
  },
  {
   "cell_type": "code",
   "execution_count": 66,
   "id": "4238f639-5ed3-430f-9b96-75eb69de1431",
   "metadata": {
    "tags": []
   },
   "outputs": [
    {
     "ename": "IndexError",
     "evalue": "pop index out of range",
     "output_type": "error",
     "traceback": [
      "\u001b[1;31m---------------------------------------------------------------------------\u001b[0m",
      "\u001b[1;31mIndexError\u001b[0m                                Traceback (most recent call last)",
      "Cell \u001b[1;32mIn[66], line 1\u001b[0m\n\u001b[1;32m----> 1\u001b[0m \u001b[43mnums_list\u001b[49m\u001b[38;5;241;43m.\u001b[39;49m\u001b[43mpop\u001b[49m\u001b[43m(\u001b[49m\u001b[38;5;241;43m10\u001b[39;49m\u001b[43m)\u001b[49m\n\u001b[0;32m      2\u001b[0m nums_list\n",
      "\u001b[1;31mIndexError\u001b[0m: pop index out of range"
     ]
    }
   ],
   "source": [
    "nums_list.pop(10)\n",
    "nums_list"
   ]
  },
  {
   "cell_type": "markdown",
   "id": "65718ecb-d1f3-438e-9ff3-57af29b777b4",
   "metadata": {},
   "source": [
    "- The **`.remove()` method** removes the **first occurrence of the element** with the specified value:"
   ]
  },
  {
   "cell_type": "code",
   "execution_count": 67,
   "id": "a77434d0-0a10-44da-b668-a7fe4bca62a8",
   "metadata": {
    "tags": []
   },
   "outputs": [],
   "source": [
    "nums_list = [1, 2, 3, 2, 4]"
   ]
  },
  {
   "cell_type": "code",
   "execution_count": 68,
   "id": "7d4f7237-4e3a-4f18-9913-1d44be7a68fd",
   "metadata": {
    "tags": []
   },
   "outputs": [
    {
     "data": {
      "text/plain": [
       "[1, 3, 2, 4]"
      ]
     },
     "execution_count": 68,
     "metadata": {},
     "output_type": "execute_result"
    }
   ],
   "source": [
    "nums_list.remove(2)\n",
    "nums_list"
   ]
  },
  {
   "cell_type": "markdown",
   "id": "93305384-f19a-4f2e-903d-5c6fd4c750b2",
   "metadata": {},
   "source": [
    "- The **`del` keyword** can also be used to **delete an element at a given index from a list**:"
   ]
  },
  {
   "cell_type": "code",
   "execution_count": 69,
   "id": "d2953aa9-c4da-43a9-9b6c-6cb2ea53eecd",
   "metadata": {
    "tags": []
   },
   "outputs": [],
   "source": [
    "nums_list = [1, 2, 3, 4]"
   ]
  },
  {
   "cell_type": "code",
   "execution_count": 70,
   "id": "a2330db0-6846-4adb-a625-f28898551018",
   "metadata": {
    "tags": []
   },
   "outputs": [
    {
     "data": {
      "text/plain": [
       "[1, 2, 3]"
      ]
     },
     "execution_count": 70,
     "metadata": {},
     "output_type": "execute_result"
    }
   ],
   "source": [
    "del nums_list[-1]\n",
    "nums_list"
   ]
  },
  {
   "cell_type": "markdown",
   "id": "ff17c949-f7cb-48b5-b3d4-6c1376550bfa",
   "metadata": {},
   "source": [
    "- The **`.clear()`** method removes **all the elements** from a list:"
   ]
  },
  {
   "cell_type": "code",
   "execution_count": 71,
   "id": "ae2db779-d077-442f-bfb9-e574e305145b",
   "metadata": {
    "tags": []
   },
   "outputs": [],
   "source": [
    "nums_list = [1, 2, 3, 2, 4]"
   ]
  },
  {
   "cell_type": "code",
   "execution_count": 72,
   "id": "55338d16-59b1-4fe2-85a4-76048fb2736f",
   "metadata": {
    "tags": []
   },
   "outputs": [
    {
     "data": {
      "text/plain": [
       "[]"
      ]
     },
     "execution_count": 72,
     "metadata": {},
     "output_type": "execute_result"
    }
   ],
   "source": [
    "nums_list.clear()\n",
    "nums_list"
   ]
  },
  {
   "cell_type": "markdown",
   "id": "0bcbd07f-178f-43b7-b51e-b405369a6572",
   "metadata": {},
   "source": [
    "#### Copying Lists"
   ]
  },
  {
   "cell_type": "markdown",
   "id": "3cd4848c-ccf0-4dcc-b048-f1c57d909989",
   "metadata": {},
   "source": [
    "- Creating **two views pointing to the same objects**:"
   ]
  },
  {
   "cell_type": "code",
   "execution_count": 73,
   "id": "0cafcbac-fbf6-4aa0-99d7-f28b333b1133",
   "metadata": {
    "tags": []
   },
   "outputs": [],
   "source": [
    "nums_list_01 = [1, 2, 3, 4]"
   ]
  },
  {
   "cell_type": "code",
   "execution_count": 74,
   "id": "6ee02964-4e29-4544-846b-f5b298cefbba",
   "metadata": {
    "tags": []
   },
   "outputs": [
    {
     "data": {
      "text/plain": [
       "[1, 2, 3, 4]"
      ]
     },
     "execution_count": 74,
     "metadata": {},
     "output_type": "execute_result"
    }
   ],
   "source": [
    "nums_list_02 = nums_list_01\n",
    "nums_list_02"
   ]
  },
  {
   "cell_type": "code",
   "execution_count": 75,
   "id": "a43f0d07-14b5-40d1-96b1-ace2a6530a2c",
   "metadata": {
    "tags": []
   },
   "outputs": [
    {
     "data": {
      "text/plain": [
       "True"
      ]
     },
     "execution_count": 75,
     "metadata": {},
     "output_type": "execute_result"
    }
   ],
   "source": [
    "nums_list_01 is nums_list_02"
   ]
  },
  {
   "cell_type": "markdown",
   "id": "88c680cb-5d72-4d76-a762-dc7f649a0b82",
   "metadata": {},
   "source": [
    "- The `.copy()` method **returns a shallow copy of a list, nested objects are not copied**:"
   ]
  },
  {
   "cell_type": "code",
   "execution_count": 76,
   "id": "cba32def-866e-4454-9562-8a19ec5c9aad",
   "metadata": {
    "tags": []
   },
   "outputs": [],
   "source": [
    "nums_list_01 = [1, 2, 3, 4]\n",
    "nested_list = [5, 6]"
   ]
  },
  {
   "cell_type": "code",
   "execution_count": 77,
   "id": "38fb531a-552f-4dc1-b5a5-3ec75966852a",
   "metadata": {
    "tags": []
   },
   "outputs": [
    {
     "data": {
      "text/plain": [
       "[1, 2, 3, 4, [5, 6]]"
      ]
     },
     "execution_count": 77,
     "metadata": {},
     "output_type": "execute_result"
    }
   ],
   "source": [
    "nums_list_01.insert(4, nested_list)\n",
    "nums_list_01"
   ]
  },
  {
   "cell_type": "code",
   "execution_count": 78,
   "id": "906a5ae6-2b38-42e3-b19e-a29b509b17c0",
   "metadata": {
    "tags": []
   },
   "outputs": [
    {
     "data": {
      "text/plain": [
       "5"
      ]
     },
     "execution_count": 78,
     "metadata": {},
     "output_type": "execute_result"
    }
   ],
   "source": [
    "len(nums_list_01)"
   ]
  },
  {
   "cell_type": "code",
   "execution_count": 79,
   "id": "b0a75506-30db-4cfa-9289-f672511fd822",
   "metadata": {
    "tags": []
   },
   "outputs": [
    {
     "data": {
      "text/plain": [
       "[1, 2, 3, 4, [5, 6]]"
      ]
     },
     "execution_count": 79,
     "metadata": {},
     "output_type": "execute_result"
    }
   ],
   "source": [
    "nums_list_02 = nums_list_01.copy()\n",
    "nums_list_02"
   ]
  },
  {
   "cell_type": "code",
   "execution_count": 80,
   "id": "3bc34aa3-a69e-4743-a752-355d8d859ee3",
   "metadata": {
    "tags": []
   },
   "outputs": [
    {
     "data": {
      "text/plain": [
       "False"
      ]
     },
     "execution_count": 80,
     "metadata": {},
     "output_type": "execute_result"
    }
   ],
   "source": [
    "nums_list_01 is nums_list_02"
   ]
  },
  {
   "cell_type": "code",
   "execution_count": 81,
   "id": "696badc0-abea-4d10-a004-8dbaf17095e0",
   "metadata": {
    "tags": []
   },
   "outputs": [],
   "source": [
    "nested_list[:] = [0, 0]"
   ]
  },
  {
   "cell_type": "code",
   "execution_count": 82,
   "id": "3f4b7c2d-1e84-4c53-9bf0-bf9ca8b1cde6",
   "metadata": {
    "tags": []
   },
   "outputs": [
    {
     "data": {
      "text/plain": [
       "[1, 2, 3, 4, [0, 0]]"
      ]
     },
     "execution_count": 82,
     "metadata": {},
     "output_type": "execute_result"
    }
   ],
   "source": [
    "nums_list_01"
   ]
  },
  {
   "cell_type": "code",
   "execution_count": 83,
   "id": "7db343f0-9741-4b7d-a516-0fb767fec4dd",
   "metadata": {
    "tags": []
   },
   "outputs": [
    {
     "data": {
      "text/plain": [
       "[1, 2, 3, 4, [0, 0]]"
      ]
     },
     "execution_count": 83,
     "metadata": {},
     "output_type": "execute_result"
    }
   ],
   "source": [
    "nums_list_02"
   ]
  },
  {
   "cell_type": "markdown",
   "id": "70140592-7eb1-4578-bb84-31c18f82ae07",
   "metadata": {},
   "source": [
    "- You can also copy lists by **creating slices of an entire list**, it's not the most readable, but **it works in the same way as `.copy()` does**:"
   ]
  },
  {
   "cell_type": "code",
   "execution_count": 84,
   "id": "555e0c5e-0218-4d32-b5c2-71c1efe68d96",
   "metadata": {
    "tags": []
   },
   "outputs": [],
   "source": [
    "nums_list_01 = [1, 2, 3, 4]"
   ]
  },
  {
   "cell_type": "code",
   "execution_count": 85,
   "id": "6a861efd-67ce-4b12-b4b3-1dc7f10228ca",
   "metadata": {
    "tags": []
   },
   "outputs": [],
   "source": [
    "nums_list_02 = nums_list_01[:]"
   ]
  },
  {
   "cell_type": "code",
   "execution_count": 86,
   "id": "40dc1737-7611-4d7b-8b92-1f81aa0ad8ef",
   "metadata": {
    "tags": []
   },
   "outputs": [
    {
     "data": {
      "text/plain": [
       "False"
      ]
     },
     "execution_count": 86,
     "metadata": {},
     "output_type": "execute_result"
    }
   ],
   "source": [
    "nums_list_01 is nums_list_02"
   ]
  },
  {
   "cell_type": "markdown",
   "id": "eb6b9260-f9e9-4ee0-99d2-fbd959910dbc",
   "metadata": {},
   "source": [
    "- The `.deepcopy()` method will **make a copy of a list AND any nested objects contained inside that list**:"
   ]
  },
  {
   "cell_type": "code",
   "execution_count": 87,
   "id": "3b96c3cf-369e-4f68-bb0c-1dd8523f22df",
   "metadata": {
    "tags": []
   },
   "outputs": [],
   "source": [
    "nums_list_01 = [1, 2, 3, 4]\n",
    "nested_list = [5, 6]"
   ]
  },
  {
   "cell_type": "code",
   "execution_count": 88,
   "id": "e164ca54-c64c-412b-815e-1cffd1839c03",
   "metadata": {
    "tags": []
   },
   "outputs": [
    {
     "data": {
      "text/plain": [
       "[1, 2, 3, 4, [5, 6]]"
      ]
     },
     "execution_count": 88,
     "metadata": {},
     "output_type": "execute_result"
    }
   ],
   "source": [
    "nums_list_01.insert(4, nested_list)\n",
    "nums_list_01"
   ]
  },
  {
   "cell_type": "code",
   "execution_count": 89,
   "id": "e5dd2dc7-66ee-49d7-835d-7e8aa881b5ab",
   "metadata": {
    "tags": []
   },
   "outputs": [],
   "source": [
    "from copy import deepcopy"
   ]
  },
  {
   "cell_type": "code",
   "execution_count": 90,
   "id": "b27714e7-0ae7-49d7-88c8-160a045c1eef",
   "metadata": {
    "tags": []
   },
   "outputs": [
    {
     "data": {
      "text/plain": [
       "[1, 2, 3, 4, [5, 6]]"
      ]
     },
     "execution_count": 90,
     "metadata": {},
     "output_type": "execute_result"
    }
   ],
   "source": [
    "nums_list_02 = deepcopy(nums_list_01)\n",
    "nums_list_02"
   ]
  },
  {
   "cell_type": "code",
   "execution_count": 91,
   "id": "fac75a57-3a03-4f02-9b8b-ca264feea441",
   "metadata": {
    "tags": []
   },
   "outputs": [
    {
     "data": {
      "text/plain": [
       "False"
      ]
     },
     "execution_count": 91,
     "metadata": {},
     "output_type": "execute_result"
    }
   ],
   "source": [
    "nums_list_01 is nums_list_02"
   ]
  },
  {
   "cell_type": "code",
   "execution_count": 92,
   "id": "62cdcf1c-a250-439b-b0aa-65f513792e47",
   "metadata": {
    "tags": []
   },
   "outputs": [],
   "source": [
    "nested_list[:] = [0, 0]"
   ]
  },
  {
   "cell_type": "code",
   "execution_count": 93,
   "id": "4ec773fb-7183-4974-989b-1b1bffb09b0b",
   "metadata": {
    "tags": []
   },
   "outputs": [
    {
     "data": {
      "text/plain": [
       "[1, 2, 3, 4, [0, 0]]"
      ]
     },
     "execution_count": 93,
     "metadata": {},
     "output_type": "execute_result"
    }
   ],
   "source": [
    "nums_list_01"
   ]
  },
  {
   "cell_type": "code",
   "execution_count": 94,
   "id": "7832ad96-b869-4112-8dd1-cc9ed861f28b",
   "metadata": {
    "tags": []
   },
   "outputs": [
    {
     "data": {
      "text/plain": [
       "[1, 2, 3, 4, [5, 6]]"
      ]
     },
     "execution_count": 94,
     "metadata": {},
     "output_type": "execute_result"
    }
   ],
   "source": [
    "nums_list_02"
   ]
  },
  {
   "cell_type": "markdown",
   "id": "ca9f821b-c2ab-481e-b5ec-78f11b9d81c4",
   "metadata": {},
   "source": [
    "#### List Unpacking"
   ]
  },
  {
   "cell_type": "markdown",
   "id": "31143680-48bd-47b0-a139-d875deb57cc0",
   "metadata": {},
   "source": [
    "- You can **unpack values** from a list into specific variable:"
   ]
  },
  {
   "cell_type": "code",
   "execution_count": 95,
   "id": "51fac22f-0cbb-4c6c-ae13-7a53a6a1941c",
   "metadata": {
    "tags": []
   },
   "outputs": [],
   "source": [
    "nums_list = [1, 2, 3, 4]"
   ]
  },
  {
   "cell_type": "code",
   "execution_count": 96,
   "id": "9fc805fc-0a81-465b-9a34-8530540b221b",
   "metadata": {
    "tags": []
   },
   "outputs": [],
   "source": [
    "a, b, c, d = nums_list"
   ]
  },
  {
   "cell_type": "code",
   "execution_count": 97,
   "id": "943382d9-50bf-4936-bec5-ab3cad9c4910",
   "metadata": {
    "tags": []
   },
   "outputs": [
    {
     "name": "stdout",
     "output_type": "stream",
     "text": [
      "1 2 3 4\n"
     ]
    }
   ],
   "source": [
    "print(a, b, c, d)"
   ]
  },
  {
   "cell_type": "markdown",
   "id": "b9211e78-c4f4-4ab2-9ee9-ffcc61ec0af8",
   "metadata": {},
   "source": [
    "- Use an asterisk (`*`) to **gather any remaining unassigned values into a variable**:"
   ]
  },
  {
   "cell_type": "code",
   "execution_count": 98,
   "id": "c40fb288-b5fe-41a9-8d9c-bd2610105e30",
   "metadata": {
    "tags": []
   },
   "outputs": [],
   "source": [
    "nums_list = [1, 2, 3, 4]"
   ]
  },
  {
   "cell_type": "code",
   "execution_count": 99,
   "id": "242cef6b-8d08-438d-a0e3-cf77070ad086",
   "metadata": {
    "tags": []
   },
   "outputs": [],
   "source": [
    "a, b, *rest = nums_list"
   ]
  },
  {
   "cell_type": "code",
   "execution_count": 100,
   "id": "4d6d394d-8a53-46f9-93d2-8214a05c1966",
   "metadata": {
    "tags": []
   },
   "outputs": [
    {
     "name": "stdout",
     "output_type": "stream",
     "text": [
      "1 2\n"
     ]
    }
   ],
   "source": [
    "print(a, b)"
   ]
  },
  {
   "cell_type": "code",
   "execution_count": 101,
   "id": "3e876cfd-4431-492a-b43f-0f349e4a8616",
   "metadata": {
    "tags": []
   },
   "outputs": [
    {
     "name": "stdout",
     "output_type": "stream",
     "text": [
      "[3, 4]\n"
     ]
    }
   ],
   "source": [
    "print(rest)"
   ]
  },
  {
   "cell_type": "markdown",
   "id": "b02962d2-6cd5-4b33-b951-db002ad589d8",
   "metadata": {},
   "source": [
    "#### Changing the Order of Elements in a List"
   ]
  },
  {
   "cell_type": "markdown",
   "id": "0a72e93d-b680-452a-b2ac-6f6ad9358a5a",
   "metadata": {},
   "source": [
    "- Return a **sorted copy** with `sorted()` function:"
   ]
  },
  {
   "cell_type": "code",
   "execution_count": 102,
   "id": "83033574-2dc5-44f9-bf27-a9ba1417a75b",
   "metadata": {
    "tags": []
   },
   "outputs": [],
   "source": [
    "nums_list = [3, 4, 1, 2]"
   ]
  },
  {
   "cell_type": "code",
   "execution_count": 103,
   "id": "62f90c66-2657-4305-b430-d23790fd86f3",
   "metadata": {
    "tags": []
   },
   "outputs": [
    {
     "data": {
      "text/plain": [
       "[1, 2, 3, 4]"
      ]
     },
     "execution_count": 103,
     "metadata": {},
     "output_type": "execute_result"
    }
   ],
   "source": [
    "sorted(nums_list)"
   ]
  },
  {
   "cell_type": "code",
   "execution_count": 104,
   "id": "1d372969-e185-4209-ba7d-f965931af10b",
   "metadata": {
    "tags": []
   },
   "outputs": [
    {
     "data": {
      "text/plain": [
       "[3, 4, 1, 2]"
      ]
     },
     "execution_count": 104,
     "metadata": {},
     "output_type": "execute_result"
    }
   ],
   "source": [
    "nums_list"
   ]
  },
  {
   "cell_type": "markdown",
   "id": "28dc76c0-d4f9-4b70-9a80-a4c912b44412",
   "metadata": {},
   "source": [
    "- Sort the list **in place** with `.sort()` method:"
   ]
  },
  {
   "cell_type": "code",
   "execution_count": 105,
   "id": "c5053ede-5bde-4cd2-9c3e-ae120176e95d",
   "metadata": {
    "tags": []
   },
   "outputs": [],
   "source": [
    "nums_list = [3, 4, 1, 2]"
   ]
  },
  {
   "cell_type": "code",
   "execution_count": 106,
   "id": "fdda6542-12b3-4db7-9ec1-232d98ad7669",
   "metadata": {
    "tags": []
   },
   "outputs": [],
   "source": [
    "nums_list.sort()"
   ]
  },
  {
   "cell_type": "code",
   "execution_count": 107,
   "id": "faed2033-a080-427e-993a-2f29e5a02f47",
   "metadata": {
    "tags": []
   },
   "outputs": [
    {
     "data": {
      "text/plain": [
       "[1, 2, 3, 4]"
      ]
     },
     "execution_count": 107,
     "metadata": {},
     "output_type": "execute_result"
    }
   ],
   "source": [
    "nums_list"
   ]
  },
  {
   "cell_type": "markdown",
   "id": "0a12bf79-ca1b-4d34-b118-6d4422a05383",
   "metadata": {},
   "source": [
    "- Return a **reversed copy** with **negative slicing**:"
   ]
  },
  {
   "cell_type": "code",
   "execution_count": 108,
   "id": "0d046b2a-d10c-4c38-a6c5-7e93d33e8751",
   "metadata": {
    "tags": []
   },
   "outputs": [],
   "source": [
    "nums_list = [3, 4, 1, 2]"
   ]
  },
  {
   "cell_type": "code",
   "execution_count": 109,
   "id": "79f8ba84-818d-4751-94b7-4f722cbf3f14",
   "metadata": {
    "tags": []
   },
   "outputs": [
    {
     "data": {
      "text/plain": [
       "[2, 1, 4, 3]"
      ]
     },
     "execution_count": 109,
     "metadata": {},
     "output_type": "execute_result"
    }
   ],
   "source": [
    "nums_list[::-1]"
   ]
  },
  {
   "cell_type": "markdown",
   "id": "940ec5c5-ec0c-4e5a-8695-34e53f4c24ef",
   "metadata": {},
   "source": [
    "- Reverse the order of a list **in place** with `.reverse()` method:"
   ]
  },
  {
   "cell_type": "code",
   "execution_count": 110,
   "id": "0cf923e0-285b-4cf2-8024-eacdba77cc56",
   "metadata": {
    "tags": []
   },
   "outputs": [],
   "source": [
    "nums_list = [3, 4, 1, 2]"
   ]
  },
  {
   "cell_type": "code",
   "execution_count": 111,
   "id": "dba3d816-c6b4-4866-a102-c19e1c5d96ce",
   "metadata": {
    "tags": []
   },
   "outputs": [],
   "source": [
    "nums_list.reverse()"
   ]
  },
  {
   "cell_type": "code",
   "execution_count": 112,
   "id": "4bc44f5e-9782-4557-81ab-fe688c828c58",
   "metadata": {
    "tags": []
   },
   "outputs": [
    {
     "data": {
      "text/plain": [
       "[2, 1, 4, 3]"
      ]
     },
     "execution_count": 112,
     "metadata": {},
     "output_type": "execute_result"
    }
   ],
   "source": [
    "nums_list"
   ]
  },
  {
   "cell_type": "markdown",
   "id": "87637340-6f8d-48ed-afd6-8b723f25aac4",
   "metadata": {},
   "source": [
    "#### Summarizing a List of Numbers or Booleans"
   ]
  },
  {
   "cell_type": "markdown",
   "id": "18259236-3b6c-4e4e-9ad9-fc2aa5f8fb3d",
   "metadata": {},
   "source": [
    "- The `sum()` function **returns a number, the sum of all items in an iterable**:"
   ]
  },
  {
   "cell_type": "code",
   "execution_count": 113,
   "id": "a4689709-84b2-48d5-a5f4-53b7674f037d",
   "metadata": {
    "tags": []
   },
   "outputs": [
    {
     "data": {
      "text/plain": [
       "[1, 2, 3, 4]"
      ]
     },
     "execution_count": 113,
     "metadata": {},
     "output_type": "execute_result"
    }
   ],
   "source": [
    "nums_list = [1, 2, 3, 4]\n",
    "nums_list"
   ]
  },
  {
   "cell_type": "code",
   "execution_count": 114,
   "id": "756fd8e8-4561-4812-a685-76d388eb4222",
   "metadata": {
    "tags": []
   },
   "outputs": [
    {
     "data": {
      "text/plain": [
       "10"
      ]
     },
     "execution_count": 114,
     "metadata": {},
     "output_type": "execute_result"
    }
   ],
   "source": [
    "sum(nums_list)"
   ]
  },
  {
   "cell_type": "markdown",
   "id": "1e57f785-9072-4684-93e5-cea2bff94bd8",
   "metadata": {},
   "source": [
    "- The `max()` and `min()` functions **returns the item with the highest and lowest value in an iterable respectively**:"
   ]
  },
  {
   "cell_type": "code",
   "execution_count": 115,
   "id": "bd1b5bb2-6b66-4282-82ee-3fe2b5aee652",
   "metadata": {
    "tags": []
   },
   "outputs": [
    {
     "data": {
      "text/plain": [
       "[1, 2, 3, 4]"
      ]
     },
     "execution_count": 115,
     "metadata": {},
     "output_type": "execute_result"
    }
   ],
   "source": [
    "nums_list = [1, 2, 3, 4]\n",
    "nums_list"
   ]
  },
  {
   "cell_type": "code",
   "execution_count": 116,
   "id": "e968f12d-958c-4a1e-9251-a0a8fad6f65c",
   "metadata": {
    "tags": []
   },
   "outputs": [
    {
     "data": {
      "text/plain": [
       "4"
      ]
     },
     "execution_count": 116,
     "metadata": {},
     "output_type": "execute_result"
    }
   ],
   "source": [
    "max(nums_list)"
   ]
  },
  {
   "cell_type": "code",
   "execution_count": 117,
   "id": "a2e2a897-80fb-48a0-94b4-4862ee0a89dc",
   "metadata": {
    "tags": []
   },
   "outputs": [
    {
     "data": {
      "text/plain": [
       "1"
      ]
     },
     "execution_count": 117,
     "metadata": {},
     "output_type": "execute_result"
    }
   ],
   "source": [
    "min(nums_list)"
   ]
  },
  {
   "cell_type": "markdown",
   "id": "9a469b1b-6b8c-4bc0-96a7-8dd6f18f4446",
   "metadata": {},
   "source": [
    "- The `all()` function **returns `True` if all items in an iterable are true, otherwise it returns `False`**:"
   ]
  },
  {
   "cell_type": "code",
   "execution_count": 118,
   "id": "3de771bc-4d90-4a92-a4c8-87e39c985b8d",
   "metadata": {
    "tags": []
   },
   "outputs": [
    {
     "data": {
      "text/plain": [
       "True"
      ]
     },
     "execution_count": 118,
     "metadata": {},
     "output_type": "execute_result"
    }
   ],
   "source": [
    "bool_list = [True, True, True]\n",
    "all(bool_list)"
   ]
  },
  {
   "cell_type": "code",
   "execution_count": 119,
   "id": "7511430e-82a6-4d97-8065-3ae30b47dd7d",
   "metadata": {
    "tags": []
   },
   "outputs": [
    {
     "data": {
      "text/plain": [
       "False"
      ]
     },
     "execution_count": 119,
     "metadata": {},
     "output_type": "execute_result"
    }
   ],
   "source": [
    "bool_list = [True, False, True]\n",
    "all(bool_list)"
   ]
  },
  {
   "cell_type": "code",
   "execution_count": 120,
   "id": "c35a011f-022a-4d34-9cd1-394ab1604ac9",
   "metadata": {
    "tags": []
   },
   "outputs": [
    {
     "data": {
      "text/plain": [
       "True"
      ]
     },
     "execution_count": 120,
     "metadata": {},
     "output_type": "execute_result"
    }
   ],
   "source": [
    "bool_list = []\n",
    "all(bool_list)"
   ]
  },
  {
   "cell_type": "markdown",
   "id": "40aef4cf-56dd-459e-9c58-195ee6186de4",
   "metadata": {},
   "source": [
    "- The `any()` function **returns `True` if any item in an iterable are true, otherwise it returns `False`**:"
   ]
  },
  {
   "cell_type": "code",
   "execution_count": 121,
   "id": "9336d9e4-783e-4b65-a441-5e7fdc56442b",
   "metadata": {
    "tags": []
   },
   "outputs": [
    {
     "data": {
      "text/plain": [
       "False"
      ]
     },
     "execution_count": 121,
     "metadata": {},
     "output_type": "execute_result"
    }
   ],
   "source": [
    "bool_list = [False, False, False]\n",
    "any(bool_list)"
   ]
  },
  {
   "cell_type": "code",
   "execution_count": 122,
   "id": "9527570c-0808-4e8f-a19d-f9ba9a2efec4",
   "metadata": {
    "tags": []
   },
   "outputs": [
    {
     "data": {
      "text/plain": [
       "True"
      ]
     },
     "execution_count": 122,
     "metadata": {},
     "output_type": "execute_result"
    }
   ],
   "source": [
    "bool_list = [True, False, True]\n",
    "any(bool_list)"
   ]
  },
  {
   "cell_type": "code",
   "execution_count": 123,
   "id": "369314d6-4b8b-4007-bae6-fe9ce6ac5220",
   "metadata": {
    "tags": []
   },
   "outputs": [
    {
     "data": {
      "text/plain": [
       "False"
      ]
     },
     "execution_count": 123,
     "metadata": {},
     "output_type": "execute_result"
    }
   ],
   "source": [
    "bool_list = []\n",
    "any(bool_list)"
   ]
  },
  {
   "cell_type": "markdown",
   "id": "038645c4-881e-4ad4-8605-63328d21af73",
   "metadata": {},
   "source": [
    "### List Comprehension"
   ]
  },
  {
   "cell_type": "markdown",
   "id": "618a1b1b-a1e0-4c44-9c23-1a01cb69ee6d",
   "metadata": {},
   "source": [
    "- List comprehension is an **alternate way of making lists**, with this elegant approach, **you could rewrite the for loop from the above-mentioned example (odd and even numbers) in just a single line of code**.\n",
    "- Rather than creating an empty list and adding each element to the end, **you simply define the list and its contents at the same time by following this format**:\n",
    "> ```new_list = [<expression> for <member> in <iterable> if <condition>]```"
   ]
  },
  {
   "cell_type": "code",
   "execution_count": 124,
   "id": "e8f0e7d2-0b40-4d26-b7d2-0269f4447fff",
   "metadata": {
    "tags": []
   },
   "outputs": [
    {
     "data": {
      "text/plain": [
       "[1, 2, 3, 4, 5, 6, 7, 8, 9, 10, 11, 12, 13, 14, 15, 16, 17, 18, 19, 20]"
      ]
     },
     "execution_count": 124,
     "metadata": {},
     "output_type": "execute_result"
    }
   ],
   "source": [
    "nums_list = list(range(1, 21))\n",
    "nums_list"
   ]
  },
  {
   "cell_type": "code",
   "execution_count": 125,
   "id": "53cfcfe4-e994-4153-9a2d-fa415247ee56",
   "metadata": {
    "tags": []
   },
   "outputs": [
    {
     "data": {
      "text/plain": [
       "[1, 3, 5, 7, 9, 11, 13, 15, 17, 19]"
      ]
     },
     "execution_count": 125,
     "metadata": {},
     "output_type": "execute_result"
    }
   ],
   "source": [
    "odd_nums_list = [num for num in nums_list if num % 2 != 0]\n",
    "odd_nums_list"
   ]
  },
  {
   "cell_type": "code",
   "execution_count": 126,
   "id": "c7e42d12-d06f-49f7-b3b9-0eb1619a9cf6",
   "metadata": {
    "tags": []
   },
   "outputs": [
    {
     "data": {
      "text/plain": [
       "[2, 4, 6, 8, 10, 12, 14, 16, 18, 20]"
      ]
     },
     "execution_count": 126,
     "metadata": {},
     "output_type": "execute_result"
    }
   ],
   "source": [
    "even_nums_list = [num for num in nums_list if num % 2 == 0]\n",
    "even_nums_list"
   ]
  },
  {
   "cell_type": "markdown",
   "id": "7d12a713-3175-41e3-a135-9259a3ed8878",
   "metadata": {},
   "source": [
    "- Every list comprehension in Python includes **three elements**:\n",
    "> - `<expression>` is the member itself, a call to a method, or any other valid expression that returns a value,\n",
    "> - `<member>` is the object or value in the list or iterable,\n",
    "> - `<iterable>` is a list, set, sequence, generator, or any other object that can return its elements one at a time,\n",
    "> - `<condition>` you can supercharge your list comprehension by using conditional logic (optional)."
   ]
  },
  {
   "cell_type": "markdown",
   "id": "1beb24ce-0a87-4302-ae4a-01ce4a5c9a15",
   "metadata": {},
   "source": [
    "## 2. Tuples are Immutable Sequences"
   ]
  },
  {
   "cell_type": "markdown",
   "id": "a30f5096-9dcd-43ea-a242-36e7df166285",
   "metadata": {},
   "source": [
    "### The `tuple` Data Type"
   ]
  },
  {
   "cell_type": "markdown",
   "id": "4aacd655-7616-4a9a-864e-2b599559e7d0",
   "metadata": {},
   "source": [
    "- Python provides **another type that is an ordered collection of objects**, called a `tuple`.\n",
    "- **Pronunciation varies** depending on whom you ask, some pronounce it as though it were spelled **“too-ple”**, and others as though it were spelled **“tup-ple”**.\n",
    "- Tuples are **identical to lists** in all respects, **except for the following properties**:\n",
    "> - Tuples are defined by enclosing the elements in **parentheses (`()`)** instead of square brackets (`[]`),\n",
    "> - Tuples are **immutable**."
   ]
  },
  {
   "cell_type": "markdown",
   "id": "da69ace5-7cdd-4f45-be54-8c93744e24b5",
   "metadata": {},
   "source": [
    "- There are a few ways to **create a tuple in Python**:\n",
    "> - Tuple literals,\n",
    "> - The `tuple()` built-in."
   ]
  },
  {
   "cell_type": "code",
   "execution_count": 127,
   "id": "5bb0ec33-c925-4ee0-9405-fd45e212cdb9",
   "metadata": {
    "tags": []
   },
   "outputs": [
    {
     "data": {
      "text/plain": [
       "(1, 2, 3, 4)"
      ]
     },
     "execution_count": 127,
     "metadata": {},
     "output_type": "execute_result"
    }
   ],
   "source": [
    "# Tuple literal:\n",
    "nums_tuple_01 = (1, 2, 3, 4)\n",
    "nums_tuple_01"
   ]
  },
  {
   "cell_type": "code",
   "execution_count": 128,
   "id": "97c79be8-849d-46ba-b27c-34294cedd7c9",
   "metadata": {
    "tags": []
   },
   "outputs": [
    {
     "data": {
      "text/plain": [
       "tuple"
      ]
     },
     "execution_count": 128,
     "metadata": {},
     "output_type": "execute_result"
    }
   ],
   "source": [
    "type(nums_tuple_01)"
   ]
  },
  {
   "cell_type": "code",
   "execution_count": 129,
   "id": "5838e6ce-64af-4491-b28d-24bbc5284c05",
   "metadata": {
    "tags": []
   },
   "outputs": [
    {
     "data": {
      "text/plain": [
       "(1, 2, 3, 4)"
      ]
     },
     "execution_count": 129,
     "metadata": {},
     "output_type": "execute_result"
    }
   ],
   "source": [
    "# Built-in constructor:\n",
    "nums_tuple_02 = tuple([1, 2, 3, 4])\n",
    "nums_tuple_02"
   ]
  },
  {
   "cell_type": "code",
   "execution_count": 130,
   "id": "b9343d8d-7719-4ce7-b596-404361a06bb2",
   "metadata": {
    "tags": []
   },
   "outputs": [
    {
     "data": {
      "text/plain": [
       "tuple"
      ]
     },
     "execution_count": 130,
     "metadata": {},
     "output_type": "execute_result"
    }
   ],
   "source": [
    "type(nums_tuple_02)"
   ]
  },
  {
   "cell_type": "code",
   "execution_count": 131,
   "id": "03738537-33f6-4927-9260-71b106ebc5ab",
   "metadata": {
    "tags": []
   },
   "outputs": [
    {
     "data": {
      "text/plain": [
       "int"
      ]
     },
     "execution_count": 131,
     "metadata": {},
     "output_type": "execute_result"
    }
   ],
   "source": [
    "# What is this?\n",
    "nums_tuple_03 = (1)\n",
    "type(nums_tuple_03)"
   ]
  },
  {
   "cell_type": "code",
   "execution_count": 132,
   "id": "1a7a648c-e421-4a17-bfb6-6b056eca8a55",
   "metadata": {
    "tags": []
   },
   "outputs": [
    {
     "data": {
      "text/plain": [
       "tuple"
      ]
     },
     "execution_count": 132,
     "metadata": {},
     "output_type": "execute_result"
    }
   ],
   "source": [
    "# What is this?\n",
    "nums_tuple_04 = 1,\n",
    "type(nums_tuple_04)"
   ]
  },
  {
   "cell_type": "markdown",
   "id": "c924d4f4-4f75-40dd-ab23-f9a477dc44b8",
   "metadata": {},
   "source": [
    "- **Why use a tuple instead of a list?**\n",
    "> - **Program execution is faster** when manipulating a tuple than it is for the equivalent list, this is probably not going to be noticeable when the list or tuple is small.\n",
    "> - **Sometimes you don’t want data to be modified**, if the values in the collection are meant to remain constant for the life of the program, using a tuple instead of a list guards against accidental modification.\n",
    "> - There is another Python data type that you will encounter shortly called a **dictionary**, which **requires as one of its components a value that is of an immutable type**, a tuple can be used for this purpose, whereas a list can’t be."
   ]
  },
  {
   "cell_type": "code",
   "execution_count": null,
   "id": "622f81e7-9b0a-4492-827f-79ee6928deb4",
   "metadata": {},
   "outputs": [],
   "source": []
  }
 ],
 "metadata": {
  "kernelspec": {
   "display_name": "GDSC",
   "language": "python",
   "name": "gdsc"
  },
  "language_info": {
   "codemirror_mode": {
    "name": "ipython",
    "version": 3
   },
   "file_extension": ".py",
   "mimetype": "text/x-python",
   "name": "python",
   "nbconvert_exporter": "python",
   "pygments_lexer": "ipython3",
   "version": "3.10.10"
  }
 },
 "nbformat": 4,
 "nbformat_minor": 5
}
