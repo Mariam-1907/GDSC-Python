{
 "cells": [
  {
   "cell_type": "markdown",
   "id": "fdfa0f93-891f-4841-95bc-84c9a9778198",
   "metadata": {},
   "source": [
    "# Numbers and Math"
   ]
  },
  {
   "cell_type": "code",
   "execution_count": 1,
   "id": "3a99fe5b-e300-4da7-a52a-7b6671096be4",
   "metadata": {},
   "outputs": [],
   "source": [
    "# Beautify Python code automatically using Black.\n",
    "%load_ext lab_black"
   ]
  },
  {
   "cell_type": "markdown",
   "id": "463ed2b6-e4b1-4398-9713-c4e1d321abfd",
   "metadata": {},
   "source": [
    "- In this chapter, you will learn how to:\n",
    "> - Work with Python’s three built-in number types: **integer**, **floatingpoint**, and complex numbers,\n",
    "> - **Round** numbers to a given number of decimal places,\n",
    "> - **Format** and display numbers in strings."
   ]
  },
  {
   "cell_type": "markdown",
   "id": "98d77dd7-8b53-4756-9a31-ea0b13a3c7c4",
   "metadata": {},
   "source": [
    "## 1. Integers and Floating-Point Numbers"
   ]
  },
  {
   "cell_type": "markdown",
   "id": "5b5f859d-7bfa-403a-a31e-7e95ae6f6422",
   "metadata": {},
   "source": [
    "- Notes on **number sets**:\n",
    "> - **Natural** Numbers - Common counting numbers.\n",
    "> - **Prime** Number - A natural number greater than 1 which has only 1 and itself as factors.\n",
    "> - **Composite** Number - A natural number greater than 1 which has more factors than 1 and itself.\n",
    "> - **Whole** Numbers - The set of Natural Numbers with the number 0 adjoined.\n",
    "> - **Integers** - Whole Numbers with their opposites (negative numbers) adjoined.\n",
    "> - **Rational** Numbers - All numbers which can be written as fractions.\n",
    "> - **Irrational** Numbers - All numbers which cannot be written as fractions.\n",
    "> - **Real** Numbers - The set of Rational Numbers with the set of Irrational Numbers adjoined.\n",
    "> - **Complex** Number - A number which can be written in the form a + bi where a and b are real numbers and i is the square root of -1."
   ]
  },
  {
   "cell_type": "markdown",
   "id": "cd18c4df-080b-4e0f-abfe-ea3a34a2f336",
   "metadata": {},
   "source": [
    "- Python has **three built-in** number data types:\n",
    "> 1. **Integers**,\n",
    "> 2. **Floating-point** numbers,\n",
    "> 3. **Complex** numbers.\n",
    "\n",
    "- In this section, you’ll learn about **integers** and **floating-point numbers**, which are the two most commonly used number types. "
   ]
  },
  {
   "cell_type": "markdown",
   "id": "8537fdcf-0d16-4e7a-8988-6ffbc79d46b9",
   "metadata": {},
   "source": [
    "### 1.1 Integers"
   ]
  },
  {
   "cell_type": "markdown",
   "id": "00370a1c-00a8-4d41-a39e-1ca3a62a4a1a",
   "metadata": {},
   "source": [
    "- An integer is a whole number with no decimal places.\n",
    "- The name for the integer data type is `int`, which you can see with the `type()` function:"
   ]
  },
  {
   "cell_type": "code",
   "execution_count": 2,
   "id": "ccf22f9d-9d47-47dd-8865-b1a88703dfdd",
   "metadata": {},
   "outputs": [
    {
     "data": {
      "text/plain": [
       "int"
      ]
     },
     "execution_count": 2,
     "metadata": {},
     "output_type": "execute_result"
    }
   ],
   "source": [
    "type(1)  # An integer."
   ]
  },
  {
   "cell_type": "code",
   "execution_count": 3,
   "id": "a128960a-470c-44b4-8ed3-e6b0b363f536",
   "metadata": {},
   "outputs": [
    {
     "data": {
      "text/plain": [
       "float"
      ]
     },
     "execution_count": 3,
     "metadata": {},
     "output_type": "execute_result"
    }
   ],
   "source": [
    "type(1.0)  # Not an integer."
   ]
  },
  {
   "cell_type": "markdown",
   "id": "8782f7d7-fc6c-49f1-b4d2-0d7981170eac",
   "metadata": {},
   "source": [
    "- You can **create an integer** by:\n",
    "> - Simply typing the number explicitly (**integer literal** - an integer literal is an integer value that is written explicitly in your\n",
    "code),\n",
    "> - Using the `int()` function (**constructor**)."
   ]
  },
  {
   "cell_type": "code",
   "execution_count": 4,
   "id": "104e1647-59d9-4fef-ac28-8b78318caed3",
   "metadata": {},
   "outputs": [
    {
     "data": {
      "text/plain": [
       "1"
      ]
     },
     "execution_count": 4,
     "metadata": {},
     "output_type": "execute_result"
    }
   ],
   "source": [
    "1  # Integer literal."
   ]
  },
  {
   "cell_type": "code",
   "execution_count": 5,
   "id": "7819f354-506e-479c-96d1-8f87bba15ec0",
   "metadata": {},
   "outputs": [
    {
     "data": {
      "text/plain": [
       "1"
      ]
     },
     "execution_count": 5,
     "metadata": {},
     "output_type": "execute_result"
    }
   ],
   "source": [
    "int(\"1\")  # Constructor - Not an integer literal."
   ]
  },
  {
   "cell_type": "markdown",
   "id": "69e31b7d-9e9c-4e44-9b27-458f6dc5d10d",
   "metadata": {},
   "source": [
    "- Integer literals can be **written in two different ways**:"
   ]
  },
  {
   "cell_type": "code",
   "execution_count": 6,
   "id": "f914f845-20b1-4e65-817c-00955f8995ef",
   "metadata": {},
   "outputs": [
    {
     "data": {
      "text/plain": [
       "1000000"
      ]
     },
     "execution_count": 6,
     "metadata": {},
     "output_type": "execute_result"
    }
   ],
   "source": [
    "1000000  # Large numbers can be difficult to read."
   ]
  },
  {
   "cell_type": "code",
   "execution_count": 7,
   "id": "816e5599-2346-4891-a48e-8c4ee757a145",
   "metadata": {},
   "outputs": [
    {
     "data": {
      "text/plain": [
       "1000000"
      ]
     },
     "execution_count": 7,
     "metadata": {},
     "output_type": "execute_result"
    }
   ],
   "source": [
    "1_000_000  # MOre readable."
   ]
  },
  {
   "cell_type": "code",
   "execution_count": 8,
   "id": "91325246-1a19-459b-8355-1f26719c5e4e",
   "metadata": {},
   "outputs": [
    {
     "data": {
      "text/plain": [
       "(1, 0, 0)"
      ]
     },
     "execution_count": 8,
     "metadata": {},
     "output_type": "execute_result"
    }
   ],
   "source": [
    "1, 000, 000  # Not a number in Python."
   ]
  },
  {
   "cell_type": "markdown",
   "id": "20d7006e-70c6-4a40-a847-060eaa07cee5",
   "metadata": {},
   "source": [
    "- There is **no limit** to how large an integer can be."
   ]
  },
  {
   "cell_type": "markdown",
   "id": "184cb326-bca1-4864-a797-1a92cfd77fcd",
   "metadata": {},
   "source": [
    "### 1.2. Floating-Point Numbers"
   ]
  },
  {
   "cell_type": "markdown",
   "id": "41e16e84-b215-4196-95d2-4c86173578bb",
   "metadata": {},
   "source": [
    "- A сoating-point number, or сoat for short, is a number with a decimal place.\n",
    "- The name of a floating-point data type is `float`:"
   ]
  },
  {
   "cell_type": "code",
   "execution_count": 9,
   "id": "d61cf2d7-312d-4011-94a7-8f83ab4c9d6f",
   "metadata": {},
   "outputs": [
    {
     "data": {
      "text/plain": [
       "float"
      ]
     },
     "execution_count": 9,
     "metadata": {},
     "output_type": "execute_result"
    }
   ],
   "source": [
    "type(1.0)"
   ]
  },
  {
   "cell_type": "markdown",
   "id": "fdaf188f-9164-4177-8745-f614622844fe",
   "metadata": {},
   "source": [
    "- You can **create a floating-point number** by:\n",
    "> - Simply typing the number explicitly (**floating-point literal** - a floating-point literal is a floating-point value that is written explicitly in your code),\n",
    "> - Using the `float()` function (**constructor**)."
   ]
  },
  {
   "cell_type": "code",
   "execution_count": 10,
   "id": "57cdaade-1990-4574-bc59-184402c54c66",
   "metadata": {},
   "outputs": [
    {
     "data": {
      "text/plain": [
       "1.0"
      ]
     },
     "execution_count": 10,
     "metadata": {},
     "output_type": "execute_result"
    }
   ],
   "source": [
    "1.0  # floating-point literal."
   ]
  },
  {
   "cell_type": "code",
   "execution_count": 11,
   "id": "de0ca2cf-86bb-4c5d-91e6-232d648904b1",
   "metadata": {},
   "outputs": [
    {
     "data": {
      "text/plain": [
       "1.0"
      ]
     },
     "execution_count": 11,
     "metadata": {},
     "output_type": "execute_result"
    }
   ],
   "source": [
    "float(\"1.0\")  # Constructor - Not a floating-point literal."
   ]
  },
  {
   "cell_type": "markdown",
   "id": "1d862aa1-383e-4ac8-a572-31fcac7663c5",
   "metadata": {},
   "source": [
    "- Floating-point literals can be **written in three different ways**:"
   ]
  },
  {
   "cell_type": "code",
   "execution_count": 12,
   "id": "24ccc25e-6d0c-4de6-af06-028d2c9a93c8",
   "metadata": {},
   "outputs": [
    {
     "data": {
      "text/plain": [
       "1000000.0"
      ]
     },
     "execution_count": 12,
     "metadata": {},
     "output_type": "execute_result"
    }
   ],
   "source": [
    "1000000.0"
   ]
  },
  {
   "cell_type": "code",
   "execution_count": 13,
   "id": "faade976-ed2e-4fd3-86e4-38e22fc504ac",
   "metadata": {},
   "outputs": [
    {
     "data": {
      "text/plain": [
       "1000000.0"
      ]
     },
     "execution_count": 13,
     "metadata": {},
     "output_type": "execute_result"
    }
   ],
   "source": [
    "1_000_000.0"
   ]
  },
  {
   "cell_type": "code",
   "execution_count": 14,
   "id": "3c42c6da-117b-4e53-baac-0ebe3c88dc2a",
   "metadata": {},
   "outputs": [
    {
     "data": {
      "text/plain": [
       "1000000.0"
      ]
     },
     "execution_count": 14,
     "metadata": {},
     "output_type": "execute_result"
    }
   ],
   "source": [
    "1e6  # For really large numbers, you can use E-notation."
   ]
  },
  {
   "cell_type": "code",
   "execution_count": 15,
   "id": "0c00f9e4-966c-4885-9a40-a7bb62885669",
   "metadata": {},
   "outputs": [
    {
     "data": {
      "text/plain": [
       "0.0001"
      ]
     },
     "execution_count": 15,
     "metadata": {},
     "output_type": "execute_result"
    }
   ],
   "source": [
    "1e-4  # You can also use negative numbers as the exponent"
   ]
  },
  {
   "cell_type": "markdown",
   "id": "1d91b843-8e03-4375-82bf-0fa06103f307",
   "metadata": {},
   "source": [
    "- Unlike integers, **floats do have a maximum size**, the maximum floating-point number **depends on your system**.\n",
    "- When you reach the maximum floating-point number, **Python returns a special float value `inf`**:"
   ]
  },
  {
   "cell_type": "code",
   "execution_count": 16,
   "id": "11668816-7eb6-45e1-a251-f48cd4cfcaee",
   "metadata": {},
   "outputs": [
    {
     "data": {
      "text/plain": [
       "inf"
      ]
     },
     "execution_count": 16,
     "metadata": {},
     "output_type": "execute_result"
    }
   ],
   "source": [
    "2e400"
   ]
  },
  {
   "cell_type": "markdown",
   "id": "f3df7140-edf4-4b72-b79c-7e5c762b0eb2",
   "metadata": {},
   "source": [
    "- `inf` stands for **infinity**, and it just means that the number you’ve tried to create is **beyond the maximum floating-point value allowed on your computer**.\n",
    "- The **type** of `inf` is still `float`:"
   ]
  },
  {
   "cell_type": "code",
   "execution_count": 17,
   "id": "5a120e1f-5a40-4185-8835-ef3e2c36a329",
   "metadata": {},
   "outputs": [
    {
     "data": {
      "text/plain": [
       "float"
      ]
     },
     "execution_count": 17,
     "metadata": {},
     "output_type": "execute_result"
    }
   ],
   "source": [
    "n = 2e400\n",
    "type(n)"
   ]
  },
  {
   "cell_type": "markdown",
   "id": "85dd35a9-11b8-4c3b-b4d9-d4293fbf23d3",
   "metadata": {},
   "source": [
    "- There is also `-inf` which stands for **negative infinity**:"
   ]
  },
  {
   "cell_type": "code",
   "execution_count": 18,
   "id": "69e60002-a4bc-4fda-a7a7-5456dc8ab678",
   "metadata": {},
   "outputs": [
    {
     "data": {
      "text/plain": [
       "-inf"
      ]
     },
     "execution_count": 18,
     "metadata": {},
     "output_type": "execute_result"
    }
   ],
   "source": [
    "-2e400"
   ]
  },
  {
   "cell_type": "markdown",
   "id": "6e8b4407-b9e4-4466-bf3f-460c7302d4b6",
   "metadata": {},
   "source": [
    "- You probably won’t come across inf and -inf often as a programmer, **unless you are working with extremely large (or small) numbers**."
   ]
  },
  {
   "cell_type": "markdown",
   "id": "1dec3491-fce1-49fc-b773-fb012d283bdc",
   "metadata": {},
   "source": [
    "## 2. Arithmetic Operators and Expressions"
   ]
  },
  {
   "cell_type": "markdown",
   "id": "a92f2d09-dac5-4256-927e-bab4c26c41ca",
   "metadata": {},
   "source": [
    "### 2.1. Basic Operations"
   ]
  },
  {
   "cell_type": "markdown",
   "id": "eaf51dca-6484-4500-827d-50fa88b03040",
   "metadata": {},
   "source": [
    "#### **Addition**"
   ]
  },
  {
   "cell_type": "markdown",
   "id": "40ceba8e-598d-43f1-bb44-46d5dd8d7001",
   "metadata": {},
   "source": [
    "- Addition is performed with the **`+` operator**:"
   ]
  },
  {
   "cell_type": "code",
   "execution_count": 19,
   "id": "c497d679-1eb2-4cbf-bf98-66f4c77bc9ab",
   "metadata": {},
   "outputs": [
    {
     "data": {
      "text/plain": [
       "3"
      ]
     },
     "execution_count": 19,
     "metadata": {},
     "output_type": "execute_result"
    }
   ],
   "source": [
    "1 + 2"
   ]
  },
  {
   "cell_type": "markdown",
   "id": "260d1e4f-101c-4b27-a549-da01d1641653",
   "metadata": {},
   "source": [
    "- Operands **do not need to be the same type**, adding two integers **always results in an `int`**, if one of the operands is a float, **the result is also a float**."
   ]
  },
  {
   "cell_type": "code",
   "execution_count": 20,
   "id": "76acd98c-6ba5-4486-8099-b8202403ce27",
   "metadata": {},
   "outputs": [
    {
     "data": {
      "text/plain": [
       "3.0"
      ]
     },
     "execution_count": 20,
     "metadata": {},
     "output_type": "execute_result"
    }
   ],
   "source": [
    "1.0 + 2"
   ]
  },
  {
   "cell_type": "markdown",
   "id": "063b204d-fc94-455f-9c50-c041d95f6397",
   "metadata": {},
   "source": [
    "#### **Substraction**"
   ]
  },
  {
   "cell_type": "markdown",
   "id": "88aa30b7-ba53-4ca2-be07-4ed40a51a015",
   "metadata": {},
   "source": [
    "- To subtract two numbers, just put a **`-` operator** in between them:"
   ]
  },
  {
   "cell_type": "code",
   "execution_count": 21,
   "id": "827f8cd3-9ed7-4b26-a729-163d28f11380",
   "metadata": {},
   "outputs": [
    {
     "data": {
      "text/plain": [
       "0"
      ]
     },
     "execution_count": 21,
     "metadata": {},
     "output_type": "execute_result"
    }
   ],
   "source": [
    "1 - 1"
   ]
  },
  {
   "cell_type": "markdown",
   "id": "c9bdc046-10fc-49d6-bb53-125607af4cb2",
   "metadata": {},
   "source": [
    "- Just like adding two integers, subtracting two integers **always results in an int**, if one of the operands is a float, **the result is also a float**."
   ]
  },
  {
   "cell_type": "code",
   "execution_count": 22,
   "id": "315fd15f-d688-4165-bcfb-a118a63ebe93",
   "metadata": {},
   "outputs": [
    {
     "data": {
      "text/plain": [
       "0.0"
      ]
     },
     "execution_count": 22,
     "metadata": {},
     "output_type": "execute_result"
    }
   ],
   "source": [
    "1.0 - 1"
   ]
  },
  {
   "cell_type": "markdown",
   "id": "4b1ccddd-b1c3-40a6-bd0d-189019a1e196",
   "metadata": {},
   "source": [
    "- The **`-` operator** is also used to denote **negative** numbers."
   ]
  },
  {
   "cell_type": "code",
   "execution_count": 23,
   "id": "98a2663f-b66f-4f55-803b-767cd33a17fd",
   "metadata": {},
   "outputs": [
    {
     "data": {
      "text/plain": [
       "-3"
      ]
     },
     "execution_count": 23,
     "metadata": {},
     "output_type": "execute_result"
    }
   ],
   "source": [
    "-3"
   ]
  },
  {
   "cell_type": "markdown",
   "id": "e1f11a9a-27e1-4c65-be6c-7195a4b9cc43",
   "metadata": {},
   "source": [
    "#### **Multiplication**"
   ]
  },
  {
   "cell_type": "markdown",
   "id": "4911b25d-2a5e-4a51-992f-aa5751819b16",
   "metadata": {},
   "source": [
    "- To multiply two numbers, use the **`*` operator**:"
   ]
  },
  {
   "cell_type": "code",
   "execution_count": 24,
   "id": "a87f1282-a152-40c4-b06f-887a0cceec35",
   "metadata": {},
   "outputs": [
    {
     "data": {
      "text/plain": [
       "9"
      ]
     },
     "execution_count": 24,
     "metadata": {},
     "output_type": "execute_result"
    }
   ],
   "source": [
    "3 * 3"
   ]
  },
  {
   "cell_type": "markdown",
   "id": "7cb1d538-0ccb-410b-bc45-3919e9ad4f36",
   "metadata": {},
   "source": [
    "- The type of number you get from multiplication **follows the same rules** as addition and subtraction, multiplying two integers **results in an int**, and multiplying a number with a float **results in a float**."
   ]
  },
  {
   "cell_type": "code",
   "execution_count": 25,
   "id": "11c70779-cee4-4616-82e9-453c9d845cf8",
   "metadata": {},
   "outputs": [
    {
     "data": {
      "text/plain": [
       "9.0"
      ]
     },
     "execution_count": 25,
     "metadata": {},
     "output_type": "execute_result"
    }
   ],
   "source": [
    "3.0 * 3"
   ]
  },
  {
   "cell_type": "markdown",
   "id": "65edbb86-175f-41c7-9168-80e1fbc5ff87",
   "metadata": {},
   "source": [
    "#### **Division**"
   ]
  },
  {
   "cell_type": "markdown",
   "id": "ca35741e-79a4-4d81-b2d3-ff33969d0a95",
   "metadata": {},
   "source": [
    "- The **`/` operator** is used to divide two numbers:"
   ]
  },
  {
   "cell_type": "code",
   "execution_count": 26,
   "id": "6e4c62c0-34f0-4394-a601-5da5ba8d3305",
   "metadata": {},
   "outputs": [
    {
     "data": {
      "text/plain": [
       "3.75"
      ]
     },
     "execution_count": 26,
     "metadata": {},
     "output_type": "execute_result"
    }
   ],
   "source": [
    "15 / 4"
   ]
  },
  {
   "cell_type": "markdown",
   "id": "f98e7047-ab9e-4d1e-8724-ae315e27ac75",
   "metadata": {},
   "source": [
    "- Unlike addition, subtraction, and multiplication, **division with the / operator always returns a float**."
   ]
  },
  {
   "cell_type": "code",
   "execution_count": 27,
   "id": "61ce6313-c1ee-440c-881e-f5d783db142c",
   "metadata": {},
   "outputs": [
    {
     "data": {
      "text/plain": [
       "3.0"
      ]
     },
     "execution_count": 27,
     "metadata": {},
     "output_type": "execute_result"
    }
   ],
   "source": [
    "9 / 3"
   ]
  },
  {
   "cell_type": "markdown",
   "id": "b833a31d-f377-42d8-b121-59b50538e1cd",
   "metadata": {},
   "source": [
    "#### **Floor division**"
   ]
  },
  {
   "cell_type": "markdown",
   "id": "25fe6e9e-8974-4cc6-88e0-7e5ee1fc1e66",
   "metadata": {},
   "source": [
    "- Python provides a **second division operator, `//`**, called the **floor** division operator:"
   ]
  },
  {
   "cell_type": "code",
   "execution_count": 28,
   "id": "c5561b45-aaab-4dc8-9550-561486278ae2",
   "metadata": {},
   "outputs": [
    {
     "data": {
      "text/plain": [
       "3"
      ]
     },
     "execution_count": 28,
     "metadata": {},
     "output_type": "execute_result"
    }
   ],
   "source": [
    "9 // 3"
   ]
  },
  {
   "cell_type": "markdown",
   "id": "dad52cb9-ca44-45f2-af1a-446e12425179",
   "metadata": {},
   "source": [
    "- The `//` operator first **divides the number on the left by the number on the right** and then **returns the largest integer that is equal to or smaller than the result**."
   ]
  },
  {
   "cell_type": "code",
   "execution_count": 29,
   "id": "a811b4bd-61ed-4113-a87e-56302f15b75a",
   "metadata": {},
   "outputs": [
    {
     "data": {
      "text/plain": [
       "3"
      ]
     },
     "execution_count": 29,
     "metadata": {},
     "output_type": "execute_result"
    }
   ],
   "source": [
    "15 // 4"
   ]
  },
  {
   "cell_type": "markdown",
   "id": "0089867d-6154-4cb2-ad45-f1cdb1808447",
   "metadata": {},
   "source": [
    "- This might not give the value you expect **when one of the numbers is negative**."
   ]
  },
  {
   "cell_type": "code",
   "execution_count": 30,
   "id": "571eb75b-c2dd-4c81-8916-09b674397fd6",
   "metadata": {},
   "outputs": [
    {
     "data": {
      "text/plain": [
       "-4"
      ]
     },
     "execution_count": 30,
     "metadata": {},
     "output_type": "execute_result"
    }
   ],
   "source": [
    "-15 // 4"
   ]
  },
  {
   "cell_type": "code",
   "execution_count": 31,
   "id": "821665cc-e3cb-477e-8eb8-645e7b59e602",
   "metadata": {},
   "outputs": [
    {
     "data": {
      "text/plain": [
       "-4"
      ]
     },
     "execution_count": 31,
     "metadata": {},
     "output_type": "execute_result"
    }
   ],
   "source": [
    "15 // -4"
   ]
  },
  {
   "cell_type": "markdown",
   "id": "e48b309c-4d45-4490-9099-b71d45f472c7",
   "metadata": {},
   "source": [
    "- Note that `//` **returns a floating-point number** if one of the operands is a float."
   ]
  },
  {
   "cell_type": "code",
   "execution_count": 32,
   "id": "a1aad824-314a-49e0-96af-33831af4f028",
   "metadata": {},
   "outputs": [
    {
     "data": {
      "text/plain": [
       "3.0"
      ]
     },
     "execution_count": 32,
     "metadata": {},
     "output_type": "execute_result"
    }
   ],
   "source": [
    "9.0 // 3"
   ]
  },
  {
   "cell_type": "markdown",
   "id": "d3c15864-15ce-4a50-8c73-5c1be1def4ea",
   "metadata": {},
   "source": [
    "#### **Modulus**"
   ]
  },
  {
   "cell_type": "markdown",
   "id": "1cd7e92e-f675-45ad-8517-cf667de1d2ff",
   "metadata": {},
   "source": [
    "- The `%` operator, or the **modulus**, returns the remainder of dividing the left operand by the right operand:"
   ]
  },
  {
   "cell_type": "code",
   "execution_count": 33,
   "id": "87395fdf-b1c1-49dd-9de4-f143f59c8898",
   "metadata": {},
   "outputs": [
    {
     "data": {
      "text/plain": [
       "3"
      ]
     },
     "execution_count": 33,
     "metadata": {},
     "output_type": "execute_result"
    }
   ],
   "source": [
    "15 % 4"
   ]
  },
  {
   "cell_type": "markdown",
   "id": "2b187ac4-5da8-4432-9072-d6594400a472",
   "metadata": {},
   "source": [
    "- One of the most common uses of `%` is **to determine whether or not one number is divisible by another**."
   ]
  },
  {
   "cell_type": "code",
   "execution_count": 34,
   "id": "deb33a84-bc2e-4c7f-a1ff-869ad7741045",
   "metadata": {},
   "outputs": [
    {
     "data": {
      "text/plain": [
       "False"
      ]
     },
     "execution_count": 34,
     "metadata": {},
     "output_type": "execute_result"
    }
   ],
   "source": [
    "# Is it odd or even?\n",
    "n = 5\n",
    "n % 2 == 0"
   ]
  },
  {
   "cell_type": "markdown",
   "id": "51974c42-08a8-4cdc-8131-6f4472e44479",
   "metadata": {},
   "source": [
    "- Just like foor division, things get a little tricky when you use the `%` operator **with negative numbers**."
   ]
  },
  {
   "cell_type": "code",
   "execution_count": 35,
   "id": "171ee465-cbef-4fe7-bc78-a9fae86d5875",
   "metadata": {},
   "outputs": [
    {
     "data": {
      "text/plain": [
       "1"
      ]
     },
     "execution_count": 35,
     "metadata": {},
     "output_type": "execute_result"
    }
   ],
   "source": [
    "-15 % 4"
   ]
  },
  {
   "cell_type": "code",
   "execution_count": 36,
   "id": "2fcc78f0-5382-4ebf-85b1-aebe70c913d4",
   "metadata": {},
   "outputs": [
    {
     "data": {
      "text/plain": [
       "-1"
      ]
     },
     "execution_count": 36,
     "metadata": {},
     "output_type": "execute_result"
    }
   ],
   "source": [
    "15 % -4"
   ]
  },
  {
   "cell_type": "markdown",
   "id": "e3044586-f499-482a-9961-13bea82adb92",
   "metadata": {},
   "source": [
    "- In general, the `//` and `% `operators are defined and calculated **in such a way that this equation `a == b * (a // b) + a % b` always holds**."
   ]
  },
  {
   "cell_type": "code",
   "execution_count": 37,
   "id": "d3e74f34-5764-4dc3-8b86-d51ef676f27c",
   "metadata": {},
   "outputs": [
    {
     "name": "stdout",
     "output_type": "stream",
     "text": [
      "a = 15, b = 4\n",
      "a // b = 3\n",
      "a % b = 3\n",
      "Does it hold? True\n"
     ]
    }
   ],
   "source": [
    "# Both numbers are positive.\n",
    "a, b = 15, 4\n",
    "print(f\"a = {a}, b = {b}\")\n",
    "print(f\"a // b = {a // b}\")\n",
    "print(f\"a % b = {a % b}\")\n",
    "print(\"Does it hold?\", a == b * (a // b) + a % b)"
   ]
  },
  {
   "cell_type": "code",
   "execution_count": 38,
   "id": "b5c29dfb-207d-47ef-8d9f-d33cd6c8a43a",
   "metadata": {},
   "outputs": [
    {
     "name": "stdout",
     "output_type": "stream",
     "text": [
      "a = -15, b = 4\n",
      "a // b = -4\n",
      "a % b = 1\n",
      "Does it hold? True\n"
     ]
    }
   ],
   "source": [
    "# One number is negative.\n",
    "a, b = -15, 4\n",
    "print(f\"a = {a}, b = {b}\")\n",
    "print(f\"a // b = {a // b}\")\n",
    "print(f\"a % b = {a % b}\")\n",
    "print(\"Does it hold?\", a == b * (a // b) + a % b)"
   ]
  },
  {
   "cell_type": "code",
   "execution_count": 39,
   "id": "cedf3c70-7578-445c-b5c3-cc00e03456a7",
   "metadata": {},
   "outputs": [
    {
     "name": "stdout",
     "output_type": "stream",
     "text": [
      "a = 15, b = -4\n",
      "a // b = -4\n",
      "a % b = -1\n",
      "Does it hold? True\n"
     ]
    }
   ],
   "source": [
    "# The other number is negative.\n",
    "a, b = 15, -4\n",
    "print(f\"a = {a}, b = {b}\")\n",
    "print(f\"a // b = {a // b}\")\n",
    "print(f\"a % b = {a % b}\")\n",
    "print(\"Does it hold?\", a == b * (a // b) + a % b)"
   ]
  },
  {
   "cell_type": "code",
   "execution_count": 40,
   "id": "59b02690-56b2-4112-aa74-97c5b47350fb",
   "metadata": {},
   "outputs": [
    {
     "name": "stdout",
     "output_type": "stream",
     "text": [
      "a = -15, b = -4\n",
      "a // b = 3\n",
      "a % b = -3\n",
      "Does it hold? True\n"
     ]
    }
   ],
   "source": [
    "# Both numbers are negative.\n",
    "a, b = -15, -4\n",
    "print(f\"a = {a}, b = {b}\")\n",
    "print(f\"a // b = {a // b}\")\n",
    "print(f\"a % b = {a % b}\")\n",
    "print(\"Does it hold?\", a == b * (a // b) + a % b)"
   ]
  },
  {
   "cell_type": "markdown",
   "id": "d396a9e3-570c-43fe-8e45-18ab084eb334",
   "metadata": {},
   "source": [
    "- Also `%` operator **returns a floating-point number** if one of the operands is a float."
   ]
  },
  {
   "cell_type": "code",
   "execution_count": 41,
   "id": "9503a68f-26c6-4dc2-8b26-c9d056cb3135",
   "metadata": {},
   "outputs": [
    {
     "data": {
      "text/plain": [
       "3.0"
      ]
     },
     "execution_count": 41,
     "metadata": {},
     "output_type": "execute_result"
    }
   ],
   "source": [
    "15.0 % 4"
   ]
  },
  {
   "cell_type": "markdown",
   "id": "bb3861a8-e366-4c8e-8672-dde378908dd5",
   "metadata": {},
   "source": [
    "#### **Exponents**"
   ]
  },
  {
   "cell_type": "markdown",
   "id": "14b24160-d8b8-4040-a05f-2fe2fe394320",
   "metadata": {},
   "source": [
    "- You can raise a number to a power using the **`**` operator**:"
   ]
  },
  {
   "cell_type": "code",
   "execution_count": 42,
   "id": "59d96723-5520-4b4c-a9e7-e4fd7faa79d1",
   "metadata": {},
   "outputs": [
    {
     "data": {
      "text/plain": [
       "4"
      ]
     },
     "execution_count": 42,
     "metadata": {},
     "output_type": "execute_result"
    }
   ],
   "source": [
    "2**2"
   ]
  },
  {
   "cell_type": "markdown",
   "id": "a7757556-3b7f-4324-b372-883f53ba3f44",
   "metadata": {},
   "source": [
    "- **Exponents don’t have to be integers**, they can also be floats.\n",
    "- Raising a number to the power of `0.5` **is the same as taking the square root**, but notice that even though the square root of 2 is an integer, **Python returns the float** `2.0`."
   ]
  },
  {
   "cell_type": "code",
   "execution_count": 43,
   "id": "9eee4565-0c32-4018-89f6-0335c3e5423c",
   "metadata": {},
   "outputs": [
    {
     "data": {
      "text/plain": [
       "2.0"
      ]
     },
     "execution_count": 43,
     "metadata": {},
     "output_type": "execute_result"
    }
   ],
   "source": [
    "4**0.5"
   ]
  },
  {
   "cell_type": "markdown",
   "id": "5878c595-1a60-49ae-b58e-25d0cc150e07",
   "metadata": {},
   "source": [
    "- For positive operands, the `**` operator **returns an integer if both operands are integers, and a float if any one of the operands is a floating-point number**."
   ]
  },
  {
   "cell_type": "code",
   "execution_count": 44,
   "id": "d5099aba-d23a-4dcb-8981-4459727c89e1",
   "metadata": {},
   "outputs": [
    {
     "data": {
      "text/plain": [
       "4"
      ]
     },
     "execution_count": 44,
     "metadata": {},
     "output_type": "execute_result"
    }
   ],
   "source": [
    "2**2"
   ]
  },
  {
   "cell_type": "code",
   "execution_count": 45,
   "id": "88f0c020-0836-4d94-ba35-8d94bd3ed591",
   "metadata": {},
   "outputs": [
    {
     "data": {
      "text/plain": [
       "4.0"
      ]
     },
     "execution_count": 45,
     "metadata": {},
     "output_type": "execute_result"
    }
   ],
   "source": [
    "2.0**2.0"
   ]
  },
  {
   "cell_type": "code",
   "execution_count": 46,
   "id": "34e0a37c-4a72-4e19-963e-cce4631e2670",
   "metadata": {},
   "outputs": [
    {
     "data": {
      "text/plain": [
       "4.0"
      ]
     },
     "execution_count": 46,
     "metadata": {},
     "output_type": "execute_result"
    }
   ],
   "source": [
    "2**2.0"
   ]
  },
  {
   "cell_type": "markdown",
   "id": "3817d73f-e342-4760-8741-57947409ac2f",
   "metadata": {},
   "source": [
    "- You can also raise numbers to **negative powers**.\n",
    "- Raising a number to a negative power **is the same as dividing 1 by the number raised to the positive power**. "
   ]
  },
  {
   "cell_type": "code",
   "execution_count": 47,
   "id": "14530453-081b-49f4-a1d1-a17e6f501548",
   "metadata": {},
   "outputs": [
    {
     "data": {
      "text/plain": [
       "0.5"
      ]
     },
     "execution_count": 47,
     "metadata": {},
     "output_type": "execute_result"
    }
   ],
   "source": [
    "2**-1"
   ]
  },
  {
   "cell_type": "code",
   "execution_count": null,
   "id": "0125ab8a-29f0-4691-b647-036345dae8ca",
   "metadata": {},
   "outputs": [],
   "source": []
  }
 ],
 "metadata": {
  "kernelspec": {
   "display_name": "Python 3 (ipykernel)",
   "language": "python",
   "name": "python3"
  },
  "language_info": {
   "codemirror_mode": {
    "name": "ipython",
    "version": 3
   },
   "file_extension": ".py",
   "mimetype": "text/x-python",
   "name": "python",
   "nbconvert_exporter": "python",
   "pygments_lexer": "ipython3",
   "version": "3.10.8"
  }
 },
 "nbformat": 4,
 "nbformat_minor": 5
}
