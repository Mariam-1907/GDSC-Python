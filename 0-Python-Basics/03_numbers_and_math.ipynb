{
 "cells": [
  {
   "cell_type": "markdown",
   "id": "fdfa0f93-891f-4841-95bc-84c9a9778198",
   "metadata": {},
   "source": [
    "# Numbers and Math"
   ]
  },
  {
   "cell_type": "code",
   "execution_count": 1,
   "id": "3a99fe5b-e300-4da7-a52a-7b6671096be4",
   "metadata": {},
   "outputs": [],
   "source": [
    "# Beautify Python code automatically using Black.\n",
    "%load_ext lab_black"
   ]
  },
  {
   "cell_type": "markdown",
   "id": "463ed2b6-e4b1-4398-9713-c4e1d321abfd",
   "metadata": {},
   "source": [
    "- In this chapter, you will learn how to:\n",
    "> - Work with Python’s three built-in number types: **integer**, **floatingpoint**, and complex numbers,\n",
    "> - **Round** numbers to a given number of decimal places,\n",
    "> - **Format** and display numbers in strings."
   ]
  },
  {
   "cell_type": "markdown",
   "id": "98d77dd7-8b53-4756-9a31-ea0b13a3c7c4",
   "metadata": {},
   "source": [
    "## 1. Integers and Floating-Point Numbers"
   ]
  },
  {
   "cell_type": "markdown",
   "id": "5b5f859d-7bfa-403a-a31e-7e95ae6f6422",
   "metadata": {},
   "source": [
    "- Notes on **number sets**:\n",
    "> - **Natural** Numbers - Common counting numbers.\n",
    "> - **Prime** Number - A natural number greater than 1 which has only 1 and itself as factors.\n",
    "> - **Composite** Number - A natural number greater than 1 which has more factors than 1 and itself.\n",
    "> - **Whole** Numbers - The set of Natural Numbers with the number 0 adjoined.\n",
    "> - **Integers** - Whole Numbers with their opposites (negative numbers) adjoined.\n",
    "> - **Rational** Numbers - All numbers which can be written as fractions.\n",
    "> - **Irrational** Numbers - All numbers which cannot be written as fractions.\n",
    "> - **Real** Numbers - The set of Rational Numbers with the set of Irrational Numbers adjoined.\n",
    "> - **Complex** Number - A number which can be written in the form a + bi where a and b are real numbers and i is the square root of -1."
   ]
  },
  {
   "cell_type": "markdown",
   "id": "cd18c4df-080b-4e0f-abfe-ea3a34a2f336",
   "metadata": {},
   "source": [
    "- Python has **three built-in** number data types:\n",
    "> 1. Integers,\n",
    "> 2. Floating-point numbers,\n",
    "> 3. Complex numbers.\n",
    "\n",
    "- In this section, you’ll learn about **integers** and **floating-point numbers**, which are the two most commonly used number types. "
   ]
  },
  {
   "cell_type": "markdown",
   "id": "8537fdcf-0d16-4e7a-8988-6ffbc79d46b9",
   "metadata": {},
   "source": [
    "### 1.1 Integers"
   ]
  },
  {
   "cell_type": "markdown",
   "id": "00370a1c-00a8-4d41-a39e-1ca3a62a4a1a",
   "metadata": {},
   "source": [
    "- An integer is a whole number with no decimal places.\n",
    "- The name for the integer data type is `int`, which you can see with the `type()` function:"
   ]
  },
  {
   "cell_type": "code",
   "execution_count": 2,
   "id": "ccf22f9d-9d47-47dd-8865-b1a88703dfdd",
   "metadata": {},
   "outputs": [
    {
     "data": {
      "text/plain": [
       "int"
      ]
     },
     "execution_count": 2,
     "metadata": {},
     "output_type": "execute_result"
    }
   ],
   "source": [
    "type(1)  # An integer."
   ]
  },
  {
   "cell_type": "code",
   "execution_count": 3,
   "id": "a128960a-470c-44b4-8ed3-e6b0b363f536",
   "metadata": {},
   "outputs": [
    {
     "data": {
      "text/plain": [
       "float"
      ]
     },
     "execution_count": 3,
     "metadata": {},
     "output_type": "execute_result"
    }
   ],
   "source": [
    "type(1.0)  # Not an integer."
   ]
  },
  {
   "cell_type": "markdown",
   "id": "8782f7d7-fc6c-49f1-b4d2-0d7981170eac",
   "metadata": {},
   "source": [
    "- You can **create an integer** by:\n",
    "> - Simply typing the number explicitly (**integer literal** - an integer literal is an integer value that is written explicitly in your\n",
    "code),\n",
    "> - Using the `int()` function (**constructor**)."
   ]
  },
  {
   "cell_type": "code",
   "execution_count": 4,
   "id": "104e1647-59d9-4fef-ac28-8b78318caed3",
   "metadata": {},
   "outputs": [
    {
     "data": {
      "text/plain": [
       "1"
      ]
     },
     "execution_count": 4,
     "metadata": {},
     "output_type": "execute_result"
    }
   ],
   "source": [
    "1  # Integer literal."
   ]
  },
  {
   "cell_type": "code",
   "execution_count": 5,
   "id": "7819f354-506e-479c-96d1-8f87bba15ec0",
   "metadata": {},
   "outputs": [
    {
     "data": {
      "text/plain": [
       "1"
      ]
     },
     "execution_count": 5,
     "metadata": {},
     "output_type": "execute_result"
    }
   ],
   "source": [
    "int(\"1\")  # Constructor - Not an integer literal."
   ]
  },
  {
   "cell_type": "markdown",
   "id": "69e31b7d-9e9c-4e44-9b27-458f6dc5d10d",
   "metadata": {},
   "source": [
    "- Integer literals can be **written in two different ways**:"
   ]
  },
  {
   "cell_type": "code",
   "execution_count": 6,
   "id": "f914f845-20b1-4e65-817c-00955f8995ef",
   "metadata": {},
   "outputs": [
    {
     "data": {
      "text/plain": [
       "1000000"
      ]
     },
     "execution_count": 6,
     "metadata": {},
     "output_type": "execute_result"
    }
   ],
   "source": [
    "1000000  # Large numbers can be difficult to read."
   ]
  },
  {
   "cell_type": "code",
   "execution_count": 7,
   "id": "816e5599-2346-4891-a48e-8c4ee757a145",
   "metadata": {},
   "outputs": [
    {
     "data": {
      "text/plain": [
       "1000000"
      ]
     },
     "execution_count": 7,
     "metadata": {},
     "output_type": "execute_result"
    }
   ],
   "source": [
    "1_000_000  # MOre readable."
   ]
  },
  {
   "cell_type": "code",
   "execution_count": 8,
   "id": "91325246-1a19-459b-8355-1f26719c5e4e",
   "metadata": {},
   "outputs": [
    {
     "data": {
      "text/plain": [
       "(1, 0, 0)"
      ]
     },
     "execution_count": 8,
     "metadata": {},
     "output_type": "execute_result"
    }
   ],
   "source": [
    "1, 000, 000  # Not a number in Python."
   ]
  },
  {
   "cell_type": "markdown",
   "id": "20d7006e-70c6-4a40-a847-060eaa07cee5",
   "metadata": {},
   "source": [
    "- There is **no limit** to how large an integer can be."
   ]
  },
  {
   "cell_type": "markdown",
   "id": "184cb326-bca1-4864-a797-1a92cfd77fcd",
   "metadata": {},
   "source": [
    "### 1.2. Floating-Point Numbers"
   ]
  },
  {
   "cell_type": "markdown",
   "id": "41e16e84-b215-4196-95d2-4c86173578bb",
   "metadata": {},
   "source": [
    "- A сoating-point number, or сoat for short, is a number with a decimal place.\n",
    "- The name of a floating-point data type is `float`:"
   ]
  },
  {
   "cell_type": "code",
   "execution_count": 9,
   "id": "d61cf2d7-312d-4011-94a7-8f83ab4c9d6f",
   "metadata": {},
   "outputs": [
    {
     "data": {
      "text/plain": [
       "float"
      ]
     },
     "execution_count": 9,
     "metadata": {},
     "output_type": "execute_result"
    }
   ],
   "source": [
    "type(1.0)"
   ]
  },
  {
   "cell_type": "markdown",
   "id": "fdaf188f-9164-4177-8745-f614622844fe",
   "metadata": {},
   "source": [
    "- You can **create a floating-point number** by:\n",
    "> - Simply typing the number explicitly (**floating-point literal** - a floating-point literal is a floating-point value that is written explicitly in your code),\n",
    "> - Using the `float()` function (**constructor**)."
   ]
  },
  {
   "cell_type": "code",
   "execution_count": 10,
   "id": "57cdaade-1990-4574-bc59-184402c54c66",
   "metadata": {},
   "outputs": [
    {
     "data": {
      "text/plain": [
       "1.0"
      ]
     },
     "execution_count": 10,
     "metadata": {},
     "output_type": "execute_result"
    }
   ],
   "source": [
    "1.0  # floating-point literal."
   ]
  },
  {
   "cell_type": "code",
   "execution_count": 11,
   "id": "de0ca2cf-86bb-4c5d-91e6-232d648904b1",
   "metadata": {},
   "outputs": [
    {
     "data": {
      "text/plain": [
       "1.0"
      ]
     },
     "execution_count": 11,
     "metadata": {},
     "output_type": "execute_result"
    }
   ],
   "source": [
    "float(\"1.0\")  # Constructor - Not a floating-point literal."
   ]
  },
  {
   "cell_type": "markdown",
   "id": "1d862aa1-383e-4ac8-a572-31fcac7663c5",
   "metadata": {},
   "source": [
    "- Floating-point literals can be **written in three different ways**:"
   ]
  },
  {
   "cell_type": "code",
   "execution_count": 12,
   "id": "24ccc25e-6d0c-4de6-af06-028d2c9a93c8",
   "metadata": {},
   "outputs": [
    {
     "data": {
      "text/plain": [
       "1000000.0"
      ]
     },
     "execution_count": 12,
     "metadata": {},
     "output_type": "execute_result"
    }
   ],
   "source": [
    "1000000.0"
   ]
  },
  {
   "cell_type": "code",
   "execution_count": 13,
   "id": "faade976-ed2e-4fd3-86e4-38e22fc504ac",
   "metadata": {},
   "outputs": [
    {
     "data": {
      "text/plain": [
       "1000000.0"
      ]
     },
     "execution_count": 13,
     "metadata": {},
     "output_type": "execute_result"
    }
   ],
   "source": [
    "1_000_000.0"
   ]
  },
  {
   "cell_type": "code",
   "execution_count": 14,
   "id": "3c42c6da-117b-4e53-baac-0ebe3c88dc2a",
   "metadata": {},
   "outputs": [
    {
     "data": {
      "text/plain": [
       "1000000.0"
      ]
     },
     "execution_count": 14,
     "metadata": {},
     "output_type": "execute_result"
    }
   ],
   "source": [
    "1e6  # For really large numbers, you can use E-notation."
   ]
  },
  {
   "cell_type": "code",
   "execution_count": 15,
   "id": "0c00f9e4-966c-4885-9a40-a7bb62885669",
   "metadata": {},
   "outputs": [
    {
     "data": {
      "text/plain": [
       "0.0001"
      ]
     },
     "execution_count": 15,
     "metadata": {},
     "output_type": "execute_result"
    }
   ],
   "source": [
    "1e-4  # You can also use negative numbers as the exponent"
   ]
  },
  {
   "cell_type": "markdown",
   "id": "1d91b843-8e03-4375-82bf-0fa06103f307",
   "metadata": {},
   "source": [
    "- Unlike integers, **floats do have a maximum size**, the maximum floating-point number **depends on your system**.\n",
    "- When you reach the maximum floating-point number, **Python returns a special float value `inf`**:"
   ]
  },
  {
   "cell_type": "code",
   "execution_count": 16,
   "id": "11668816-7eb6-45e1-a251-f48cd4cfcaee",
   "metadata": {},
   "outputs": [
    {
     "data": {
      "text/plain": [
       "inf"
      ]
     },
     "execution_count": 16,
     "metadata": {},
     "output_type": "execute_result"
    }
   ],
   "source": [
    "2e400"
   ]
  },
  {
   "cell_type": "markdown",
   "id": "f3df7140-edf4-4b72-b79c-7e5c762b0eb2",
   "metadata": {},
   "source": [
    "- `inf` stands for **infinity**, and it just means that the number you’ve tried to create is **beyond the maximum floating-point value allowed on your computer**.\n",
    "- The **type** of `inf` is still `float`:"
   ]
  },
  {
   "cell_type": "code",
   "execution_count": 17,
   "id": "5a120e1f-5a40-4185-8835-ef3e2c36a329",
   "metadata": {},
   "outputs": [
    {
     "data": {
      "text/plain": [
       "float"
      ]
     },
     "execution_count": 17,
     "metadata": {},
     "output_type": "execute_result"
    }
   ],
   "source": [
    "n = 2e400\n",
    "type(n)"
   ]
  },
  {
   "cell_type": "markdown",
   "id": "85dd35a9-11b8-4c3b-b4d9-d4293fbf23d3",
   "metadata": {},
   "source": [
    "- There is also `-inf` which stands for **negative infinity**:"
   ]
  },
  {
   "cell_type": "code",
   "execution_count": 18,
   "id": "69e60002-a4bc-4fda-a7a7-5456dc8ab678",
   "metadata": {},
   "outputs": [
    {
     "data": {
      "text/plain": [
       "-inf"
      ]
     },
     "execution_count": 18,
     "metadata": {},
     "output_type": "execute_result"
    }
   ],
   "source": [
    "-2e400"
   ]
  },
  {
   "cell_type": "markdown",
   "id": "6e8b4407-b9e4-4466-bf3f-460c7302d4b6",
   "metadata": {},
   "source": [
    "- You probably won’t come across inf and -inf often as a programmer, **unless you are working with extremely large (or small) numbers**."
   ]
  },
  {
   "cell_type": "markdown",
   "id": "1dec3491-fce1-49fc-b773-fb012d283bdc",
   "metadata": {},
   "source": [
    "## 2. Arithmetic Operators and Expressions"
   ]
  },
  {
   "cell_type": "code",
   "execution_count": null,
   "id": "b28ab047-85cf-4998-aa6c-be3f697076a4",
   "metadata": {},
   "outputs": [],
   "source": []
  }
 ],
 "metadata": {
  "kernelspec": {
   "display_name": "Python 3 (ipykernel)",
   "language": "python",
   "name": "python3"
  },
  "language_info": {
   "codemirror_mode": {
    "name": "ipython",
    "version": 3
   },
   "file_extension": ".py",
   "mimetype": "text/x-python",
   "name": "python",
   "nbconvert_exporter": "python",
   "pygments_lexer": "ipython3",
   "version": "3.10.8"
  }
 },
 "nbformat": 4,
 "nbformat_minor": 5
}
