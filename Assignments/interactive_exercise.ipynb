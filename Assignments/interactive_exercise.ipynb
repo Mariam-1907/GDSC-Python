{
 "cells": [
  {
   "cell_type": "markdown",
   "id": "72cde244-4c34-4024-8f8b-f4d307fefd41",
   "metadata": {},
   "source": [
    "### For each of the following conditional expressions, guess whether they evaluate to True or False. Then type them into the interactive window to check your answers:\n",
    "> - `1 <= 1`\n",
    "> - `1 != 1`\n",
    "> - `1 != 2`\n",
    "> - `\"good\" != \"bad\"`\n",
    "> - `\"good\" != \"Good\"`\n",
    "> - `123 == \"123\"`"
   ]
  },
  {
   "cell_type": "markdown",
   "id": "39ebd114-8ef0-4cd6-ab55-c7520fbc3fde",
   "metadata": {},
   "source": [
    "### For each of the following expressions, fill in the blank (indicated by __) with an appropriate boolean comparator so that the expression evaluates to True:\n",
    "> - `3 __ 4`\n",
    "> - `10 __ 5`\n",
    "> - `\"jack\" __ \"jill\"`\n",
    "> - `42 __ \"42\"`"
   ]
  },
  {
   "cell_type": "markdown",
   "id": "0611d1d5-8981-4a8b-853c-eeb77840bc6e",
   "metadata": {},
   "source": [
    "### Figure out what the result will be (True or False) when evaluating the following expressions, then type them into the interactive window to check your answers:\n",
    "> - `(1 <= 1) and (1 != 1)`\n",
    "> - `not (1 != 2)`\n",
    "> - `(\"good\" != \"bad\") or False`\n",
    "> - `(\"good\" != \"Good\") and not (1 == 1)`"
   ]
  },
  {
   "cell_type": "markdown",
   "id": "9bd5416a-3fcb-4b0e-ab15-826fad3a9ce7",
   "metadata": {},
   "source": [
    "### Add parentheses where necessary so that each of the following expressions evaluates to True:\n",
    "> - `False == not True`\n",
    "> - `True and False == True and False`\n",
    "> - `not True and \"A\" == \"B\"`"
   ]
  },
  {
   "cell_type": "code",
   "execution_count": null,
   "id": "8a12ab4a-7fb3-422d-9620-38593168bc91",
   "metadata": {},
   "outputs": [],
   "source": []
  }
 ],
 "metadata": {
  "kernelspec": {
   "display_name": "GDSC",
   "language": "python",
   "name": "gdsc"
  },
  "language_info": {
   "codemirror_mode": {
    "name": "ipython",
    "version": 3
   },
   "file_extension": ".py",
   "mimetype": "text/x-python",
   "name": "python",
   "nbconvert_exporter": "python",
   "pygments_lexer": "ipython3",
   "version": "3.10.10"
  }
 },
 "nbformat": 4,
 "nbformat_minor": 5
}
