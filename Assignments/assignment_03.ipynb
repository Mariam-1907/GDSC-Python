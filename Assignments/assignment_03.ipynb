{
 "cells": [
  {
   "cell_type": "markdown",
   "id": "7811d8c1-c32d-4425-b8bc-7bbcc87c3b7c",
   "metadata": {},
   "source": [
    "### Add parentheses where necessary so that each of the following expressions evaluates to True:"
   ]
  },
  {
   "cell_type": "code",
   "execution_count": null,
   "id": "dddff37c-2d46-4b8a-ac69-8ba00f65790c",
   "metadata": {
    "tags": []
   },
   "outputs": [],
   "source": [
    "# TODO\n",
    "False == not True"
   ]
  },
  {
   "cell_type": "code",
   "execution_count": null,
   "id": "10710a5c-e022-4871-b893-6465b2219e6d",
   "metadata": {
    "tags": []
   },
   "outputs": [],
   "source": [
    "# TODO\n",
    "True and False == True and False"
   ]
  },
  {
   "cell_type": "code",
   "execution_count": null,
   "id": "2c3d46ac-83cc-4d66-973b-9c93686fec0d",
   "metadata": {},
   "outputs": [],
   "source": [
    "# TODO\n",
    "not True and \"A\" == \"B\""
   ]
  },
  {
   "cell_type": "code",
   "execution_count": null,
   "id": "e77e4831-3881-47fb-8308-f00146c4e5bb",
   "metadata": {
    "tags": []
   },
   "outputs": [],
   "source": [
    "# TODO\n",
    "False == False in [False] "
   ]
  },
  {
   "cell_type": "code",
   "execution_count": null,
   "id": "3542325a-026e-42d6-930d-2fb13e8cc0ac",
   "metadata": {},
   "outputs": [],
   "source": [
    "# TODO\n",
    "1 == 2 == 0"
   ]
  },
  {
   "cell_type": "markdown",
   "id": "ff7a7e87-e763-4c1b-b9a5-e105432cbf57",
   "metadata": {},
   "source": [
    "### Construct a list of numbers from `1` to `1000`, then use `len()` function to assert the list length."
   ]
  },
  {
   "cell_type": "code",
   "execution_count": null,
   "id": "9ef39256-6463-4777-9b05-b6cc090a94ad",
   "metadata": {
    "tags": []
   },
   "outputs": [],
   "source": [
    "# TODO\n",
    "nums_list = "
   ]
  },
  {
   "cell_type": "code",
   "execution_count": null,
   "id": "c3f8db70-5e81-4082-bb51-2975cf031674",
   "metadata": {},
   "outputs": [],
   "source": [
    "# TODO\n",
    "len(nums_list)"
   ]
  },
  {
   "cell_type": "markdown",
   "id": "db8390b9-2570-48d2-8431-ac98ac31a04e",
   "metadata": {},
   "source": [
    "### Subset the first 50 numbers from `nums_list` into another list and assign it to `sliced`."
   ]
  },
  {
   "cell_type": "code",
   "execution_count": null,
   "id": "ecff77a0-5b7e-45c9-addc-72daa56b151d",
   "metadata": {},
   "outputs": [],
   "source": [
    "# TODO\n",
    "sliced ="
   ]
  },
  {
   "cell_type": "markdown",
   "id": "605501db-ffde-41da-a9c3-eb136f30ff63",
   "metadata": {},
   "source": [
    "### Filter odd and even numbers in `sliced` to `odd_nums_list` and `even_nums_list` respectively."
   ]
  },
  {
   "cell_type": "code",
   "execution_count": null,
   "id": "d2dcd096-aff7-4d4d-b325-c5ee213888f1",
   "metadata": {},
   "outputs": [],
   "source": [
    "# TODO"
   ]
  },
  {
   "cell_type": "markdown",
   "id": "ee75f14c-b18b-42d6-ab7a-b5beea9f79f3",
   "metadata": {},
   "source": [
    "### Write a Python program to count Even and Odd numbers in a List:\n",
    "> - Input: `[2, 7, 5, 64, 14]`\n",
    "> - Output: `even` = 3, `odd` = 2"
   ]
  },
  {
   "cell_type": "code",
   "execution_count": null,
   "id": "615db24f-474e-453c-9048-14aea1c3b9d4",
   "metadata": {
    "tags": []
   },
   "outputs": [],
   "source": [
    "nums_list = [2, 7, 5, 64, 14]"
   ]
  },
  {
   "cell_type": "code",
   "execution_count": null,
   "id": "42b3f2ea-5a6b-438f-8874-4ae370e09651",
   "metadata": {},
   "outputs": [],
   "source": [
    "# TODO"
   ]
  },
  {
   "cell_type": "markdown",
   "id": "c6732954-fa9f-4d16-bbb2-8d399709243b",
   "metadata": {},
   "source": [
    "### Use list indexing to determine how many days are in a particular month based on the integer variable `month`, and store that value in the integer variable `num_of_days_per_month`. For example, if `month` is `8`, `num_of_days_per_month` should be set to `31`, since the eighth month, August, has 31 days."
   ]
  },
  {
   "cell_type": "code",
   "execution_count": null,
   "id": "e9bbf5cb-55ea-40b9-b753-501e1680b7a0",
   "metadata": {},
   "outputs": [],
   "source": [
    "month = 8\n",
    "days_in_month = [31, 28, 31, 30, 31, 30, 31, 31, 30, 31, 30, 31]"
   ]
  },
  {
   "cell_type": "code",
   "execution_count": null,
   "id": "4348c24e-591f-4db5-a98a-5362fbdd0bed",
   "metadata": {},
   "outputs": [],
   "source": [
    "# TODO\n",
    "num_of_days_per_month =\n",
    "print(num_days)"
   ]
  },
  {
   "cell_type": "markdown",
   "id": "2e51b15e-2d13-4863-aa12-e37c3fea1596",
   "metadata": {},
   "source": [
    "### Return a copy of `dates_list` with the dates sorted in ascending order (without altering the original list)."
   ]
  },
  {
   "cell_type": "code",
   "execution_count": null,
   "id": "44ea4b55-4078-4fdb-a2d7-9986f6af1470",
   "metadata": {
    "tags": []
   },
   "outputs": [],
   "source": [
    "dates_list = ['1972-07-30',  '2014-03-13', '2018-08-06', '1973-04-16', '1996-07-10',\n",
    "              '2019-02-20', '2012-02-26', '1991-04-07', '2013-05-22', '2019-12-28',\n",
    "              '2010-03-05', '2016-05-16', '1976-01-02', '2005-01-09', '1977-11-09',\n",
    "              '1981-08-12', '1971-08-08', '1988-11-27', '2014-10-16', '2009-12-12']"
   ]
  },
  {
   "cell_type": "code",
   "execution_count": null,
   "id": "2ad9346d-0d5d-4d7b-b359-9f320417429b",
   "metadata": {},
   "outputs": [],
   "source": [
    "#TODO\n",
    "dates_list_sorted_copy = "
   ]
  },
  {
   "cell_type": "markdown",
   "id": "3b2a9f56-2c41-4d5b-a2aa-f22bec906e91",
   "metadata": {},
   "source": [
    "### Select the three most recent dates from `dates_list_sorted_copy` using list slicing notation."
   ]
  },
  {
   "cell_type": "code",
   "execution_count": null,
   "id": "ccf2be61-eaab-4492-9ca9-c539e9dee6b7",
   "metadata": {},
   "outputs": [],
   "source": [
    "# TODO"
   ]
  },
  {
   "cell_type": "markdown",
   "id": "a1ed757d-f2f1-4f49-91fa-f55b8f3aacb2",
   "metadata": {},
   "source": [
    "### There is something wrong with this code, fix it to return the list `nums_list` sorted in ascending order."
   ]
  },
  {
   "cell_type": "code",
   "execution_count": null,
   "id": "60d0a6df-9d2a-40d4-b5b3-3621d5d9dd9f",
   "metadata": {
    "tags": []
   },
   "outputs": [],
   "source": [
    "# TODO\n",
    "nums_list = [6, 4, 7, 3, 5, 8, 9]\n",
    "nums_list = nums_list.sort()\n",
    "nums_list"
   ]
  },
  {
   "cell_type": "markdown",
   "id": "c1c83d4e-6958-49e7-b77b-17d6f0686186",
   "metadata": {},
   "source": [
    "### Return a string `names_str` containing names in `names_list` sorted in ascending order and separated by a comma (`,`)."
   ]
  },
  {
   "cell_type": "code",
   "execution_count": null,
   "id": "14d7d821-0964-4c6b-9539-76fb846db0c0",
   "metadata": {
    "tags": []
   },
   "outputs": [],
   "source": [
    "names_list = ['John Hall', 'Nicole Morrison', 'Matthew Romero', 'Diana Smith']"
   ]
  },
  {
   "cell_type": "code",
   "execution_count": null,
   "id": "05299978-a8de-44c8-8692-1fb5da2a432b",
   "metadata": {},
   "outputs": [],
   "source": [
    "# TODO\n",
    "names_str = "
   ]
  },
  {
   "cell_type": "markdown",
   "id": "b5a7cc2e-4184-4984-9663-0efb1e647cdd",
   "metadata": {},
   "source": [
    "### Combine these two lists together `[1, 2, 3, 4]` & `[5, 6, 7, 8]` to create a new `nums_list` using three different methods."
   ]
  },
  {
   "cell_type": "code",
   "execution_count": null,
   "id": "ed80a12a-ea64-4a57-a54a-012ba7d23a88",
   "metadata": {},
   "outputs": [],
   "source": [
    "# TODO\n",
    "nums_list = "
   ]
  },
  {
   "cell_type": "code",
   "execution_count": null,
   "id": "a4e23d55-6e33-4199-a48f-9991b553d1d1",
   "metadata": {},
   "outputs": [],
   "source": [
    "# TODO\n",
    "nums_list = "
   ]
  },
  {
   "cell_type": "code",
   "execution_count": null,
   "id": "862b602d-4d2e-40a2-988f-d023411ce840",
   "metadata": {},
   "outputs": [],
   "source": [
    "# TODO\n",
    "nums_list = "
   ]
  },
  {
   "cell_type": "markdown",
   "id": "e8c53fb1-8fec-44fe-8519-801e837b8ac3",
   "metadata": {},
   "source": [
    "### Create a new list unique_nums_list that contains non-duplicate elements from `nums_list`."
   ]
  },
  {
   "cell_type": "code",
   "execution_count": null,
   "id": "bb48439a-409c-441b-a56a-2b196f45522b",
   "metadata": {
    "tags": []
   },
   "outputs": [],
   "source": [
    "nums_list = [1, 4, 5, 2, 4, 5, 4, 6, 7, 6, 8]"
   ]
  },
  {
   "cell_type": "code",
   "execution_count": null,
   "id": "76766860-7384-4c7e-ae0f-cd9bd1d6f2c9",
   "metadata": {
    "tags": []
   },
   "outputs": [],
   "source": [
    "# TODO"
   ]
  },
  {
   "cell_type": "markdown",
   "id": "73f8ab54-009d-4499-a0d6-36659f667692",
   "metadata": {},
   "source": [
    "### Modify the following code so that `nums_list_01` and `nums_list_02` are two different objects."
   ]
  },
  {
   "cell_type": "code",
   "execution_count": null,
   "id": "fa8264aa-ef39-477e-ba53-26a000980a48",
   "metadata": {},
   "outputs": [],
   "source": [
    "# TODO\n",
    "nums_list_01 = [1, 2, 3, 4]\n",
    "nums_list_02 = nums_list_01"
   ]
  },
  {
   "cell_type": "code",
   "execution_count": null,
   "id": "f8361e92-4bff-4f0e-a8a2-9014d660c25c",
   "metadata": {},
   "outputs": [],
   "source": [
    "# The result should be True\n",
    "nums_list_01 == nums_list_02"
   ]
  },
  {
   "cell_type": "code",
   "execution_count": null,
   "id": "55bbab94-eff9-4dca-8d3b-0e7802da84d4",
   "metadata": {},
   "outputs": [],
   "source": [
    "# The result should be False\n",
    "nums_list_01 is nums_list_02"
   ]
  },
  {
   "cell_type": "markdown",
   "id": "5b114275-7fbb-43c2-9125-a3f00c96e420",
   "metadata": {},
   "source": [
    "### Given a list `nums_list` , write a program to swap first and last elements in a list:\n",
    "> - Input : `[12, 35, 9, 56, 24]`\n",
    "> - Output : `[24, 35, 9, 56, 12]`"
   ]
  },
  {
   "cell_type": "code",
   "execution_count": null,
   "id": "4c295ef6-18ba-4bb8-9bc1-4bc35b8e3e3f",
   "metadata": {
    "tags": []
   },
   "outputs": [],
   "source": [
    "nums_list = [12, 35, 9, 56, 24]"
   ]
  },
  {
   "cell_type": "code",
   "execution_count": null,
   "id": "0dcf7013-38dd-465e-95e1-b3bae9704ddd",
   "metadata": {
    "tags": []
   },
   "outputs": [],
   "source": [
    "# TODO"
   ]
  },
  {
   "cell_type": "markdown",
   "id": "16816553-96bb-4126-8a45-9429db53022c",
   "metadata": {},
   "source": [
    "### Write a Python program to find second largest number in a list:\n",
    "> - Input: list1 =` [10, 20, 4]`\n",
    "> - Output: `10`"
   ]
  },
  {
   "cell_type": "code",
   "execution_count": null,
   "id": "0be56a64-2c9f-46fa-b8c7-0827d0fd9ed3",
   "metadata": {},
   "outputs": [],
   "source": [
    "nums_list = [10, 20, 4]"
   ]
  },
  {
   "cell_type": "code",
   "execution_count": null,
   "id": "ac83789f-4953-4801-bb8b-300f60c65a07",
   "metadata": {},
   "outputs": [],
   "source": [
    "# TODO"
   ]
  },
  {
   "cell_type": "markdown",
   "id": "f46b8cd0-06ca-4954-94f7-c4790d0710ba",
   "metadata": {},
   "source": [
    "### Write a Python program to print all negative numbers in a range (from `a` to `b`):\n",
    "> - Input: `a = -4`, `b = 5`\n",
    "> - Output: `-4, -3, -2, -1`"
   ]
  },
  {
   "cell_type": "code",
   "execution_count": null,
   "id": "83797806-251b-4558-a14c-1902d92261f4",
   "metadata": {
    "tags": []
   },
   "outputs": [],
   "source": [
    "a, b = -4, 5"
   ]
  },
  {
   "cell_type": "code",
   "execution_count": null,
   "id": "c9a37290-6320-4edb-b7fc-dc523aa67c7f",
   "metadata": {},
   "outputs": [],
   "source": [
    "# TODO"
   ]
  }
 ],
 "metadata": {
  "kernelspec": {
   "display_name": "Data-Science",
   "language": "python",
   "name": "data-science"
  },
  "language_info": {
   "codemirror_mode": {
    "name": "ipython",
    "version": 3
   },
   "file_extension": ".py",
   "mimetype": "text/x-python",
   "name": "python",
   "nbconvert_exporter": "python",
   "pygments_lexer": "ipython3",
   "version": "3.10.10"
  }
 },
 "nbformat": 4,
 "nbformat_minor": 5
}
